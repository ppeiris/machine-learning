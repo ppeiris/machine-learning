{
 "cells": [
  {
   "cell_type": "markdown",
   "metadata": {
    "toc": "true"
   },
   "source": [
    "# Table of Contents\n",
    " <p><div class=\"lev1\"><a href=\"#Variance\"><span class=\"toc-item-num\">1&nbsp;&nbsp;</span>Variance</a></div><div class=\"lev1\"><a href=\"#Covariance\"><span class=\"toc-item-num\">2&nbsp;&nbsp;</span>Covariance</a></div><div class=\"lev1\"><a href=\"#Covariance-Matrix\"><span class=\"toc-item-num\">3&nbsp;&nbsp;</span>Covariance Matrix</a></div><div class=\"lev2\"><a href=\"#Generate-some-sample-data\"><span class=\"toc-item-num\">3.1&nbsp;&nbsp;</span>Generate some sample data</a></div><div class=\"lev2\"><a href=\"#Centering-data---Deviation-Scores-($x_{i}---\\bar{x}$)\"><span class=\"toc-item-num\">3.2&nbsp;&nbsp;</span>Centering data - Deviation Scores ($x_{i} - \\bar{x}$)</a></div><div class=\"lev2\"><a href=\"#Centering-paramter_1\"><span class=\"toc-item-num\">3.3&nbsp;&nbsp;</span>Centering paramter_1</a></div><div class=\"lev3\"><a href=\"#Step-1:-Calculate-the-mean-value-of-the-parameter_1-\"><span class=\"toc-item-num\">3.3.1&nbsp;&nbsp;</span><strong>Step 1</strong>: Calculate the mean value of the <strong>parameter_1 </strong></a></div><div class=\"lev3\"><a href=\"#Step-2:-Remove-the-mean-value-from-the-parameter_1\"><span class=\"toc-item-num\">3.3.2&nbsp;&nbsp;</span><strong>Step 2</strong>: Remove the mean value from the <strong>parameter_1</strong></a></div><div class=\"lev2\"><a href=\"#Center-data-using-Matrix-Algebra\"><span class=\"toc-item-num\">3.4&nbsp;&nbsp;</span>Center data using Matrix Algebra</a></div><div class=\"lev3\"><a href=\"#Define-raw-data-as-a-Matrix\"><span class=\"toc-item-num\">3.4.1&nbsp;&nbsp;</span>Define raw data as a Matrix</a></div><div class=\"lev3\"><a href=\"#Define-a-column-vector-of-ones\"><span class=\"toc-item-num\">3.4.2&nbsp;&nbsp;</span>Define a column vector of ones</a></div><div class=\"lev3\"><a href=\"#Build-a-square-matrix-of-ones\"><span class=\"toc-item-num\">3.4.3&nbsp;&nbsp;</span>Build a square matrix of ones</a></div><div class=\"lev3\"><a href=\"#Center-raw-data-Matrix\"><span class=\"toc-item-num\">3.4.4&nbsp;&nbsp;</span>Center raw data Matrix</a></div><div class=\"lev3\"><a href=\"#Centering-Example-Data\"><span class=\"toc-item-num\">3.4.5&nbsp;&nbsp;</span>Centering Example Data</a></div><div class=\"lev2\"><a href=\"#Calculate-Covariance-Matrix\"><span class=\"toc-item-num\">3.5&nbsp;&nbsp;</span>Calculate Covariance Matrix</a></div><div class=\"lev3\"><a href=\"#Using-Matrix-Algebra\"><span class=\"toc-item-num\">3.5.1&nbsp;&nbsp;</span>Using Matrix Algebra</a></div><div class=\"lev3\"><a href=\"#With-sample-data\"><span class=\"toc-item-num\">3.5.2&nbsp;&nbsp;</span>With sample data</a></div><div class=\"lev1\"><a href=\"#Calculate-Covariance-Matrix-using-DataFrame\"><span class=\"toc-item-num\">4&nbsp;&nbsp;</span>Calculate Covariance Matrix using DataFrame</a></div><div class=\"lev1\"><a href=\"#Calculate-Covariance-Matrix-using-numpy-arrays\"><span class=\"toc-item-num\">5&nbsp;&nbsp;</span>Calculate Covariance Matrix using numpy arrays</a></div>"
   ]
  },
  {
   "cell_type": "code",
   "execution_count": 55,
   "metadata": {
    "collapsed": true
   },
   "outputs": [],
   "source": [
    "import pandas as pd\n",
    "import numpy as np\n",
    "import numpy as np\n",
    "from IPython.display import display, HTML, Math\n",
    "from sympy import init_printing, Matrix, symbols, sqrt\n",
    "init_printing(use_latex = 'mathjax')"
   ]
  },
  {
   "cell_type": "markdown",
   "metadata": {},
   "source": [
    "# Variance\n",
    "Variance is the average squared deviation from the mean. This measure of the variability of spread in a set of data.\n",
    "\n",
    "\n",
    "$$\\sigma^{2}(x) = \\frac{\\Sigma{(x_{i} - \\bar{x})^2}}{N - 1}$$\n",
    "\n",
    "\n",
    "- $N$ - Number of observations \n",
    "- $\\bar{x}$ - mean of the given variable\n",
    "- $x_{i}$ - $i^{th}$ row variable\n",
    "\n",
    "\n"
   ]
  },
  {
   "cell_type": "markdown",
   "metadata": {},
   "source": [
    "# Covariance\n",
    "\n",
    "**Covariance** is a measure of the extent to which corresponding elements from two sets of ordered data move in the same direction. $X$ and $Y$ are two vectors.\n",
    " $$V = \\sigma^{2}_{XY} = \\frac{1}{N-1}\\sum(X_i - \\bar{X})(Y_i-\\bar{Y})$$\n",
    " \n",
    " Dividing by N-1 give us the unbiased estimator [read more](https://en.wikipedia.org/wiki/Unbiased_estimation_of_standard_deviation)\n",
    " \n",
    " \n",
    " \n",
    "\n",
    "The **covariance** measures the degree of the linear relationship between two variables.\n",
    "\n",
    "- $\\sigma^2_{XY} >> 0$, A and B are positively correlated\n",
    "- $\\sigma^2_{XY} = 0$, A and B are NOT correlated \n",
    "- $\\sigma^2_{XY} << 0$, A and B are negatively correlated\n",
    "- $|\\sigma^2_{XY}|$, Absolute magnitude of the covariance measure the degree of redundancy\n",
    "- $\\sigma^2_{XY} = \\sigma^2_{X}$ if $X=Y$\n"
   ]
  },
  {
   "cell_type": "markdown",
   "metadata": {},
   "source": [
    "# Covariance Matrix "
   ]
  },
  {
   "cell_type": "markdown",
   "metadata": {},
   "source": [
    "## Generate some sample data\n",
    "\n",
    "Let us assume there is an experiment (observing stars in a galaxy, running an experiment in the lab or watching the stock market). Each observation measures some parameters. In the case of observing stars, we can record its Mass, Radius, Flux, and distance. Experiments in the lab could be a chemical reaction that has its temperature, reaction rate, color changes ... etc. Watching the stock market records high value, low value, buying price, selling price ...etc. We can pick any number of parameters, and that depends on the experiment and also what quantities we are interested in. For the practical purposes, let us assume all the parameters are recorded as floating point numbers.\n",
    "\n",
    "We can store these observations in matrix (table format)"
   ]
  },
  {
   "cell_type": "code",
   "execution_count": 56,
   "metadata": {
    "collapsed": false
   },
   "outputs": [],
   "source": [
    "# random normal values\n",
    "d1 = np.random.randn(3)\n",
    "d2 = np.random.randn(3)\n",
    "d3 = np.random.randn(3)\n",
    "d4 = np.random.randn(3)\n",
    "d5 = np.random.randn(3)\n",
    "\n",
    "Observations = pd.DataFrame(\n",
    "    [d1, d2, d3, d4, d5],\n",
    "    index = [\n",
    "        'Observation_1', \n",
    "        'Observation_2', \n",
    "        'Observation_3',\n",
    "        'Observation_4',\n",
    "        'Observation_5'\n",
    "    ],\n",
    "    columns={\n",
    "        'parameter_1', \n",
    "        'parameter_2', \n",
    "        'parameter_3'\n",
    "    }\n",
    ")"
   ]
  },
  {
   "cell_type": "markdown",
   "metadata": {},
   "source": [
    "Above code snippet generates some random values and put them into a data frame. In this dataset, we have three different **observations (row)**, and each observation records three separate **parameters (columns)**. "
   ]
  },
  {
   "cell_type": "code",
   "execution_count": 57,
   "metadata": {
    "collapsed": false,
    "variables": {
     "Observations": "<div>\n<table border=\"1\" class=\"dataframe\">\n  <thead>\n    <tr style=\"text-align: right;\">\n      <th></th>\n      <th>parameter_3</th>\n      <th>parameter_2</th>\n      <th>parameter_1</th>\n    </tr>\n  </thead>\n  <tbody>\n    <tr>\n      <th>Observation_1</th>\n      <td>0.602378</td>\n      <td>0.218894</td>\n      <td>-1.248042</td>\n    </tr>\n    <tr>\n      <th>Observation_2</th>\n      <td>1.048618</td>\n      <td>1.014585</td>\n      <td>2.268149</td>\n    </tr>\n    <tr>\n      <th>Observation_3</th>\n      <td>0.955461</td>\n      <td>-0.060892</td>\n      <td>0.565187</td>\n    </tr>\n    <tr>\n      <th>Observation_4</th>\n      <td>0.871734</td>\n      <td>-2.309762</td>\n      <td>0.618511</td>\n    </tr>\n    <tr>\n      <th>Observation_5</th>\n      <td>0.616055</td>\n      <td>1.426026</td>\n      <td>-0.084707</td>\n    </tr>\n  </tbody>\n</table>\n</div>"
    }
   },
   "outputs": [
    {
     "data": {
      "text/html": [
       "<div>\n",
       "<table border=\"1\" class=\"dataframe\">\n",
       "  <thead>\n",
       "    <tr style=\"text-align: right;\">\n",
       "      <th></th>\n",
       "      <th>parameter_3</th>\n",
       "      <th>parameter_2</th>\n",
       "      <th>parameter_1</th>\n",
       "    </tr>\n",
       "  </thead>\n",
       "  <tbody>\n",
       "    <tr>\n",
       "      <th>Observation_1</th>\n",
       "      <td>1.354721</td>\n",
       "      <td>0.723148</td>\n",
       "      <td>1.074798</td>\n",
       "    </tr>\n",
       "    <tr>\n",
       "      <th>Observation_2</th>\n",
       "      <td>0.108113</td>\n",
       "      <td>0.226227</td>\n",
       "      <td>0.495319</td>\n",
       "    </tr>\n",
       "    <tr>\n",
       "      <th>Observation_3</th>\n",
       "      <td>0.687069</td>\n",
       "      <td>-0.791294</td>\n",
       "      <td>0.890422</td>\n",
       "    </tr>\n",
       "    <tr>\n",
       "      <th>Observation_4</th>\n",
       "      <td>1.256354</td>\n",
       "      <td>0.599203</td>\n",
       "      <td>-1.710360</td>\n",
       "    </tr>\n",
       "    <tr>\n",
       "      <th>Observation_5</th>\n",
       "      <td>-0.575724</td>\n",
       "      <td>-1.970987</td>\n",
       "      <td>0.100809</td>\n",
       "    </tr>\n",
       "  </tbody>\n",
       "</table>\n",
       "</div>"
      ],
      "text/plain": [
       "               parameter_3  parameter_2  parameter_1\n",
       "Observation_1     1.354721     0.723148     1.074798\n",
       "Observation_2     0.108113     0.226227     0.495319\n",
       "Observation_3     0.687069    -0.791294     0.890422\n",
       "Observation_4     1.256354     0.599203    -1.710360\n",
       "Observation_5    -0.575724    -1.970987     0.100809"
      ]
     },
     "metadata": {},
     "output_type": "display_data"
    }
   ],
   "source": [
    "display(Observations)"
   ]
  },
  {
   "cell_type": "markdown",
   "metadata": {},
   "source": [
    "## Centering data - Deviation Scores ($x_{i} - \\bar{x}$)\n",
    "How to center. Centered independent variables are obtained just by subtracting the mean of the variable. Centering data is important because that makes interpretation os parameter estimators easier.\n",
    "\n",
    "\n",
    "We have 3 parameters in the above dataset, and we have 5 observations. We need to center all three parameters in this data set. Will take a look at how to center **parameter_1** in details "
   ]
  },
  {
   "cell_type": "markdown",
   "metadata": {},
   "source": [
    "## Centering paramter_1\n",
    "\n",
    "### **Step 1**: Calculate the mean value of the **parameter_1 **\n",
    "\n",
    "$$\\mu_{parameter\\_1} = \\frac{1}{5}\\Big(\\sum^{5}_{observation=1}{\\big(parameter\\_1_{observation}\\big)}\\Big)$$"
   ]
  },
  {
   "cell_type": "code",
   "execution_count": 58,
   "metadata": {
    "collapsed": false
   },
   "outputs": [],
   "source": [
    "mu_parameter_1 = Observations[['parameter_1']].mean()"
   ]
  },
  {
   "cell_type": "markdown",
   "metadata": {},
   "source": [
    "### **Step 2**: Remove the mean value from the **parameter_1**\n",
    "**Raw Data**"
   ]
  },
  {
   "cell_type": "code",
   "execution_count": 59,
   "metadata": {
    "collapsed": false
   },
   "outputs": [
    {
     "data": {
      "text/html": [
       "<div>\n",
       "<table border=\"1\" class=\"dataframe\">\n",
       "  <thead>\n",
       "    <tr style=\"text-align: right;\">\n",
       "      <th></th>\n",
       "      <th>parameter_1</th>\n",
       "    </tr>\n",
       "  </thead>\n",
       "  <tbody>\n",
       "    <tr>\n",
       "      <th>Observation_1</th>\n",
       "      <td>1.074798</td>\n",
       "    </tr>\n",
       "    <tr>\n",
       "      <th>Observation_2</th>\n",
       "      <td>0.495319</td>\n",
       "    </tr>\n",
       "    <tr>\n",
       "      <th>Observation_3</th>\n",
       "      <td>0.890422</td>\n",
       "    </tr>\n",
       "    <tr>\n",
       "      <th>Observation_4</th>\n",
       "      <td>-1.710360</td>\n",
       "    </tr>\n",
       "    <tr>\n",
       "      <th>Observation_5</th>\n",
       "      <td>0.100809</td>\n",
       "    </tr>\n",
       "  </tbody>\n",
       "</table>\n",
       "</div>"
      ],
      "text/plain": [
       "               parameter_1\n",
       "Observation_1     1.074798\n",
       "Observation_2     0.495319\n",
       "Observation_3     0.890422\n",
       "Observation_4    -1.710360\n",
       "Observation_5     0.100809"
      ]
     },
     "execution_count": 59,
     "metadata": {},
     "output_type": "execute_result"
    }
   ],
   "source": [
    "Observations[['parameter_1']]"
   ]
  },
  {
   "cell_type": "markdown",
   "metadata": {},
   "source": [
    "**parameter_1** mean"
   ]
  },
  {
   "cell_type": "code",
   "execution_count": 60,
   "metadata": {
    "collapsed": false
   },
   "outputs": [
    {
     "data": {
      "text/plain": [
       "parameter_1    0.170197\n",
       "dtype: float64"
      ]
     },
     "metadata": {},
     "output_type": "display_data"
    }
   ],
   "source": [
    "display(mu_parameter_1)"
   ]
  },
  {
   "cell_type": "markdown",
   "metadata": {},
   "source": [
    "**centred Data**"
   ]
  },
  {
   "cell_type": "code",
   "execution_count": 61,
   "metadata": {
    "collapsed": false
   },
   "outputs": [
    {
     "data": {
      "text/html": [
       "<div>\n",
       "<table border=\"1\" class=\"dataframe\">\n",
       "  <thead>\n",
       "    <tr style=\"text-align: right;\">\n",
       "      <th></th>\n",
       "      <th>parameter_1</th>\n",
       "    </tr>\n",
       "  </thead>\n",
       "  <tbody>\n",
       "    <tr>\n",
       "      <th>Observation_1</th>\n",
       "      <td>0.904601</td>\n",
       "    </tr>\n",
       "    <tr>\n",
       "      <th>Observation_2</th>\n",
       "      <td>0.325121</td>\n",
       "    </tr>\n",
       "    <tr>\n",
       "      <th>Observation_3</th>\n",
       "      <td>0.720224</td>\n",
       "    </tr>\n",
       "    <tr>\n",
       "      <th>Observation_4</th>\n",
       "      <td>-1.880558</td>\n",
       "    </tr>\n",
       "    <tr>\n",
       "      <th>Observation_5</th>\n",
       "      <td>-0.069389</td>\n",
       "    </tr>\n",
       "  </tbody>\n",
       "</table>\n",
       "</div>"
      ],
      "text/plain": [
       "               parameter_1\n",
       "Observation_1     0.904601\n",
       "Observation_2     0.325121\n",
       "Observation_3     0.720224\n",
       "Observation_4    -1.880558\n",
       "Observation_5    -0.069389"
      ]
     },
     "execution_count": 61,
     "metadata": {},
     "output_type": "execute_result"
    }
   ],
   "source": [
    "Observations[['parameter_1']] - mu_parameter_1"
   ]
  },
  {
   "cell_type": "markdown",
   "metadata": {},
   "source": [
    "## Center data using Matrix Algebra \n",
    "\n",
    "Calculating deviation scores and centering all the parameters can be done using linear algebra matrix manipulations. This is a very handy way to manipulate large amount of data.\n"
   ]
  },
  {
   "cell_type": "markdown",
   "metadata": {},
   "source": [
    "### Define raw data as a Matrix \n",
    "Let us assume the raw data is in the Matrix $X$. Each row is an observation, and each column is a parameter."
   ]
  },
  {
   "cell_type": "markdown",
   "metadata": {},
   "source": [
    "$$X = \n",
    "\\begin{bmatrix}\n",
    "\\vec{x}_{1} \\\\\n",
    "\\vec{x}_{2} \\\\\n",
    ". \\\\\n",
    "\\vec{x}_{m}\n",
    "\\end{bmatrix} = \n",
    "\\begin{bmatrix} \n",
    "x_{11} & x_{12} & ... & x_{1n} \\\\ \n",
    "x_{21} & x_{22} & ... & x_{2n} \\\\\n",
    ". & . & ... & . \\\\\n",
    "x_{m1} & x_{m2} & ... & x_{mn} \\\\\n",
    "\\end{bmatrix}_{m\\times n}$$\n",
    " "
   ]
  },
  {
   "cell_type": "markdown",
   "metadata": {},
   "source": [
    "### Define a column vector of ones\n",
    "$$L = \n",
    "\\begin{bmatrix}\n",
    "1 \\\\\n",
    "1 \\\\\n",
    ". \\\\\n",
    "1\n",
    "\\end{bmatrix}_{m\\times 1}$$"
   ]
  },
  {
   "cell_type": "markdown",
   "metadata": {},
   "source": [
    "### Build a square matrix of ones\n",
    "$$LL^{T} = \\begin{bmatrix}\n",
    "1 \\\\\n",
    "1 \\\\\n",
    ". \\\\\n",
    "1\n",
    "\\end{bmatrix}\n",
    "\\begin{bmatrix}\n",
    "1 & 1 & . & 1 \\\\\n",
    "\\end{bmatrix} = \\begin{bmatrix} \n",
    "1 & 1 & ... & 1 \\\\ \n",
    "1 & 1 & ... & 1 \\\\\n",
    ". & . & ... & . \\\\\n",
    "1 & 1 & ... & 1 \\\\\n",
    "\\end{bmatrix}_{m\\times m}$$"
   ]
  },
  {
   "cell_type": "markdown",
   "metadata": {},
   "source": [
    "### Center raw data Matrix\n",
    "\n",
    "Transform the raw scores from matrix $X$ into deviation scores for matrix $D$.\n",
    "\n",
    "$$D = X-\\frac{1}{m}(LL^{T})X$$\n",
    " \n",
    "$$D =\n",
    "\\begin{bmatrix} \n",
    "x_{11} & x_{12} & ... & x_{1n} \\\\ \n",
    "x_{21} & x_{22} & ... & x_{2n} \\\\\n",
    ". & . & ... & . \\\\\n",
    "x_{m1} & x_{m2} & ... & x_{mn} \\\\\n",
    "\\end{bmatrix}_{m\\times n} - \\frac{1}{m}\\begin{bmatrix} \n",
    "1 & 1 & ... & 1 \\\\ \n",
    "1 & 1 & ... & 1 \\\\\n",
    ". & . & ... & . \\\\\n",
    "1 & 1 & ... & 1 \\\\\n",
    " \\end{bmatrix}_{m\\times m}\\begin{bmatrix} \n",
    "x_{11} & x_{12} & ... & x_{1n} \\\\ \n",
    "x_{21} & x_{22} & ... & x_{2n} \\\\\n",
    ". & . & ... & . \\\\\n",
    "x_{m1} & x_{m2} & ... & x_{mn} \\\\\n",
    "\\end{bmatrix}_{m\\times n}$$\n",
    " "
   ]
  },
  {
   "cell_type": "markdown",
   "metadata": {},
   "source": [
    "$$D = \n",
    "\\begin{bmatrix} \n",
    "x_{11} & x_{12} & ... & x_{1n} \\\\ \n",
    "x_{21} & x_{22} & ... & x_{2n} \\\\\n",
    ". & . & ... & . \\\\\n",
    "x_{m1} & x_{m2} & ... & x_{mn} \\\\\n",
    "\\end{bmatrix}_{m\\times n} -\n",
    "\\begin{bmatrix} \n",
    "\\frac{1}{m}\\sum_{i=1}^{m}x_{i1} & \\frac{1}{m}\\sum_{i=1}^{m}x_{i2} & ... & \\frac{1}{m}\\sum_{i=1}^{m}x_{in} \\\\ \n",
    "\\frac{1}{m}\\sum_{i=1}^{m}x_{i1} & \\frac{1}{m}\\sum_{i=1}^{m}x_{i2} & ... & \\frac{1}{m}\\sum_{i=1}^{m}x_{in} \\\\ \n",
    ". & . & ... & . \\\\\n",
    "\\frac{1}{m}\\sum_{i=1}^{m}x_{i1} & \\frac{1}{m}\\sum_{i=1}^{m}x_{i2} & ... & \\frac{1}{m}\\sum_{i=1}^{m}x_{in} \\\\ \n",
    "\\end{bmatrix}_{m\\times n}$$"
   ]
  },
  {
   "cell_type": "markdown",
   "metadata": {},
   "source": [
    "$$D = \n",
    "\\begin{bmatrix} \n",
    "x_{11} & x_{12} & ... & x_{1n} \\\\ \n",
    "x_{21} & x_{22} & ... & x_{2n} \\\\\n",
    ". & . & ... & . \\\\\n",
    "x_{m1} & x_{m2} & ... & x_{mn} \\\\\n",
    "\\end{bmatrix}_{m\\times n} -\n",
    "\\begin{bmatrix} \n",
    "\\mu_{param_1} & \\mu_{param_2} & ... & \\mu_{param_n} \\\\ \n",
    "\\mu_{param_1} & \\mu_{param_2} & ... & \\mu_{param_n} \\\\ \n",
    ". & . & ... & . \\\\\n",
    "\\mu_{param_1} & \\mu_{param_2} & ... & \\mu_{param_n} \\\\ \n",
    "\\end{bmatrix}_{m\\times n}$$\n"
   ]
  },
  {
   "cell_type": "markdown",
   "metadata": {},
   "source": [
    "$$D = \\begin{bmatrix} \n",
    "(x_{11} - \\mu_{param_1}) & (x_{12} - \\mu_{param_2}) & ... & (x_{1n} - \\mu_{param_n})\\\\ \n",
    "(x_{21} - \\mu_{param_1}) & (x_{22} - \\mu_{param_2}) & ... & (x_{2n} - \\mu_{param_n})\\\\\n",
    ". & . & ... & . \\\\\n",
    "(x_{m1} - \\mu_{param_1}) & (x_{m2} - \\mu_{param_2}) & ... & (x_{mn} - \\mu_{param_n})\\\\\n",
    "\\end{bmatrix}_{m\\times n}$$"
   ]
  },
  {
   "cell_type": "markdown",
   "metadata": {},
   "source": [
    "**Centerd data**\n",
    "$$D = \n",
    "\\begin{bmatrix} \n",
    "d_{11} & d_{12} & ... & d_{1n} \\\\ \n",
    "d_{21} & d_{22} & ... & d_{2n} \\\\\n",
    ". & . & ... & . \\\\\n",
    "d_{m1} & d_{m2} & ... & d_{mn} \\\\\n",
    "\\end{bmatrix}_{m\\times n}$$\n",
    "\n"
   ]
  },
  {
   "cell_type": "markdown",
   "metadata": {},
   "source": [
    "### Centering Example Data "
   ]
  },
  {
   "cell_type": "markdown",
   "metadata": {},
   "source": [
    "**Raw Data**"
   ]
  },
  {
   "cell_type": "code",
   "execution_count": 62,
   "metadata": {
    "collapsed": false
   },
   "outputs": [
    {
     "data": {
      "text/html": [
       "<div>\n",
       "<table border=\"1\" class=\"dataframe\">\n",
       "  <thead>\n",
       "    <tr style=\"text-align: right;\">\n",
       "      <th></th>\n",
       "      <th>parameter_3</th>\n",
       "      <th>parameter_2</th>\n",
       "      <th>parameter_1</th>\n",
       "    </tr>\n",
       "  </thead>\n",
       "  <tbody>\n",
       "    <tr>\n",
       "      <th>Observation_1</th>\n",
       "      <td>1.354721</td>\n",
       "      <td>0.723148</td>\n",
       "      <td>1.074798</td>\n",
       "    </tr>\n",
       "    <tr>\n",
       "      <th>Observation_2</th>\n",
       "      <td>0.108113</td>\n",
       "      <td>0.226227</td>\n",
       "      <td>0.495319</td>\n",
       "    </tr>\n",
       "    <tr>\n",
       "      <th>Observation_3</th>\n",
       "      <td>0.687069</td>\n",
       "      <td>-0.791294</td>\n",
       "      <td>0.890422</td>\n",
       "    </tr>\n",
       "    <tr>\n",
       "      <th>Observation_4</th>\n",
       "      <td>1.256354</td>\n",
       "      <td>0.599203</td>\n",
       "      <td>-1.710360</td>\n",
       "    </tr>\n",
       "    <tr>\n",
       "      <th>Observation_5</th>\n",
       "      <td>-0.575724</td>\n",
       "      <td>-1.970987</td>\n",
       "      <td>0.100809</td>\n",
       "    </tr>\n",
       "  </tbody>\n",
       "</table>\n",
       "</div>"
      ],
      "text/plain": [
       "               parameter_3  parameter_2  parameter_1\n",
       "Observation_1     1.354721     0.723148     1.074798\n",
       "Observation_2     0.108113     0.226227     0.495319\n",
       "Observation_3     0.687069    -0.791294     0.890422\n",
       "Observation_4     1.256354     0.599203    -1.710360\n",
       "Observation_5    -0.575724    -1.970987     0.100809"
      ]
     },
     "metadata": {},
     "output_type": "display_data"
    }
   ],
   "source": [
    "display(Observations)"
   ]
  },
  {
   "cell_type": "markdown",
   "metadata": {},
   "source": [
    "**Centering data**"
   ]
  },
  {
   "cell_type": "code",
   "execution_count": 63,
   "metadata": {
    "collapsed": false
   },
   "outputs": [
    {
     "data": {
      "text/html": [
       "<div>\n",
       "<table border=\"1\" class=\"dataframe\">\n",
       "  <thead>\n",
       "    <tr style=\"text-align: right;\">\n",
       "      <th></th>\n",
       "      <th>parameter_3</th>\n",
       "      <th>parameter_2</th>\n",
       "      <th>parameter_1</th>\n",
       "    </tr>\n",
       "  </thead>\n",
       "  <tbody>\n",
       "    <tr>\n",
       "      <th>Observation_1</th>\n",
       "      <td>0.788614</td>\n",
       "      <td>0.965889</td>\n",
       "      <td>0.904601</td>\n",
       "    </tr>\n",
       "    <tr>\n",
       "      <th>Observation_2</th>\n",
       "      <td>-0.457994</td>\n",
       "      <td>0.468967</td>\n",
       "      <td>0.325121</td>\n",
       "    </tr>\n",
       "    <tr>\n",
       "      <th>Observation_3</th>\n",
       "      <td>0.120963</td>\n",
       "      <td>-0.548553</td>\n",
       "      <td>0.720224</td>\n",
       "    </tr>\n",
       "    <tr>\n",
       "      <th>Observation_4</th>\n",
       "      <td>0.690247</td>\n",
       "      <td>0.841944</td>\n",
       "      <td>-1.880558</td>\n",
       "    </tr>\n",
       "    <tr>\n",
       "      <th>Observation_5</th>\n",
       "      <td>-1.141831</td>\n",
       "      <td>-1.728246</td>\n",
       "      <td>-0.069389</td>\n",
       "    </tr>\n",
       "  </tbody>\n",
       "</table>\n",
       "</div>"
      ],
      "text/plain": [
       "               parameter_3  parameter_2  parameter_1\n",
       "Observation_1     0.788614     0.965889     0.904601\n",
       "Observation_2    -0.457994     0.468967     0.325121\n",
       "Observation_3     0.120963    -0.548553     0.720224\n",
       "Observation_4     0.690247     0.841944    -1.880558\n",
       "Observation_5    -1.141831    -1.728246    -0.069389"
      ]
     },
     "metadata": {},
     "output_type": "display_data"
    }
   ],
   "source": [
    "ObsCenterd = Observations - Observations.mean(axis=0)\n",
    "display(ObsCenterd)"
   ]
  },
  {
   "cell_type": "markdown",
   "metadata": {},
   "source": [
    "## Calculate Covariance Matrix\n",
    "### Using Matrix Algebra"
   ]
  },
  {
   "cell_type": "markdown",
   "metadata": {},
   "source": [
    "$$V = \\frac{1}{m-1}D^{T}D$$"
   ]
  },
  {
   "cell_type": "markdown",
   "metadata": {},
   "source": [
    "$$V = \\frac{1}{m-1}\n",
    "\\begin{bmatrix} \n",
    "d_{11} & d_{21} & ... & d_{m1} \\\\\n",
    "d_{12} & d_{22} & ... & d_{m2} \\\\\n",
    ". \t   & \t.\t& ... &\t. \\\\\n",
    "d_{1n} & d_{2n} & ... & d_{mn} \\\\\n",
    "\\end{bmatrix}_{n\\times m} \\times\n",
    "\\begin{bmatrix} \n",
    "d_{11} & d_{12} & ... & d_{1n} \\\\ \n",
    "d_{21} & d_{22} & ... & d_{2n} \\\\\n",
    ". & . & ... & . \\\\\n",
    "d_{m1} & d_{m2} & ... & d_{mn} \\\\\n",
    "\\end{bmatrix}_{m\\times n}\n",
    "$$\n",
    "\n",
    "\n"
   ]
  },
  {
   "cell_type": "markdown",
   "metadata": {},
   "source": [
    "$$V = \n",
    "\\begin{bmatrix} \n",
    "\\frac{1}{m-1}\\sum_{i=1}^{m-1}d^{2}_{i1} & \\frac{1}{m-1}\\sum_{i=1}^{m-1}d_{i1}d_{i2} & ... & \\frac{1}{m-1}\\sum_{i=1}^{m-1}d_{i1}d_{in} \\\\ \n",
    "\\frac{1}{m-1}\\sum_{i=1}^{m-1}d_{i2}d_{i1} & \\frac{1}{m-1}\\sum_{i=1}^{m-1}d^{2}_{i2} & ... & \\frac{1}{m-1}\\sum_{i=1}^{m-1}d_{i2}d_{in} \\\\ \n",
    ". & . & ... & . \\\\\n",
    "\\frac{1}{m-1}\\sum_{i=1}^{m-1}d_{in}d_{i1} & \\frac{1}{m-1}\\sum_{i=1}^{m-1}d_{in}d_{i2} & ... & \\frac{1}{m-1}\\sum_{i=1}^{m-1}d^{2}_{nn} \\\\ \n",
    "\\end{bmatrix}_{n\\times n}$$\n"
   ]
  },
  {
   "cell_type": "markdown",
   "metadata": {},
   "source": [
    "$$V = \n",
    "\\begin{bmatrix} \n",
    "\\sigma^{2}_{d_{i1}d_{i1}} & \\sigma^{2}_{d_{i1}d_{i2}} & ... & \\sigma^{2}_{d_{i1}d_{in}} \\\\ \n",
    "\\sigma^{2}_{d_{i2}d_{i1}} & \\sigma^{2}_{d_{i2}d_{i2}} & ... & \\sigma^{2}_{d_{i2}d_{in}} \\\\ \n",
    ". & . & ... & . \\\\\n",
    "\\sigma^{2}_{d_{in}d_{i1}} & \\sigma^{2}_{d_{in}d_{i2}} & ... & \\sigma^{2}_{d_{nn}d_{nn}} \\\\ \n",
    "\\end{bmatrix}_{n\\times n}$$"
   ]
  },
  {
   "cell_type": "markdown",
   "metadata": {},
   "source": [
    "The $ij^{th}$ element in the $V$ ($V_{X_{ij}}$) is the dot product between the vector $i^{th}$ parameter with the vector of the $j^{th}$ parameter. \n",
    "\n",
    "- $V$ is a square symmetric $n\\times n$ matrix \n",
    "- The diagonal terms of $V$ are the **variance** of particular observations types\n",
    "- The off-diagonal terms of $V$ are the **covariance** between observation types \n",
    "\n",
    "\n",
    "\n",
    "$V$ capture all the covariance among all the possible parameters in observations. The covariance values reflect the noise and redundancy in the parameters.\n",
    "\n",
    "- Diagonal terms, by assumption, large values correspond to an interesting structure.\n",
    "- Off-diagonal terms large magnitudes correspond to high redundancy \n",
    "\n",
    "\n",
    "Let us assume we can manipulate this covariance matrix. If you can do that, what features we want to optimize ? (Will cover this in another post)\n"
   ]
  },
  {
   "cell_type": "markdown",
   "metadata": {},
   "source": [
    "### With sample data"
   ]
  },
  {
   "cell_type": "markdown",
   "metadata": {},
   "source": [
    "$D^{T}$"
   ]
  },
  {
   "cell_type": "code",
   "execution_count": 64,
   "metadata": {
    "collapsed": false
   },
   "outputs": [
    {
     "data": {
      "text/html": [
       "<div>\n",
       "<table border=\"1\" class=\"dataframe\">\n",
       "  <thead>\n",
       "    <tr style=\"text-align: right;\">\n",
       "      <th></th>\n",
       "      <th>Observation_1</th>\n",
       "      <th>Observation_2</th>\n",
       "      <th>Observation_3</th>\n",
       "      <th>Observation_4</th>\n",
       "      <th>Observation_5</th>\n",
       "    </tr>\n",
       "  </thead>\n",
       "  <tbody>\n",
       "    <tr>\n",
       "      <th>parameter_3</th>\n",
       "      <td>0.788614</td>\n",
       "      <td>-0.457994</td>\n",
       "      <td>0.120963</td>\n",
       "      <td>0.690247</td>\n",
       "      <td>-1.141831</td>\n",
       "    </tr>\n",
       "    <tr>\n",
       "      <th>parameter_2</th>\n",
       "      <td>0.965889</td>\n",
       "      <td>0.468967</td>\n",
       "      <td>-0.548553</td>\n",
       "      <td>0.841944</td>\n",
       "      <td>-1.728246</td>\n",
       "    </tr>\n",
       "    <tr>\n",
       "      <th>parameter_1</th>\n",
       "      <td>0.904601</td>\n",
       "      <td>0.325121</td>\n",
       "      <td>0.720224</td>\n",
       "      <td>-1.880558</td>\n",
       "      <td>-0.069389</td>\n",
       "    </tr>\n",
       "  </tbody>\n",
       "</table>\n",
       "</div>"
      ],
      "text/plain": [
       "             Observation_1  Observation_2  Observation_3  Observation_4  \\\n",
       "parameter_3       0.788614      -0.457994       0.120963       0.690247   \n",
       "parameter_2       0.965889       0.468967      -0.548553       0.841944   \n",
       "parameter_1       0.904601       0.325121       0.720224      -1.880558   \n",
       "\n",
       "             Observation_5  \n",
       "parameter_3      -1.141831  \n",
       "parameter_2      -1.728246  \n",
       "parameter_1      -0.069389  "
      ]
     },
     "metadata": {},
     "output_type": "display_data"
    }
   ],
   "source": [
    "display(ObsCenterd.T)"
   ]
  },
  {
   "cell_type": "markdown",
   "metadata": {},
   "source": [
    "$D$"
   ]
  },
  {
   "cell_type": "code",
   "execution_count": 65,
   "metadata": {
    "collapsed": false
   },
   "outputs": [
    {
     "data": {
      "text/html": [
       "<div>\n",
       "<table border=\"1\" class=\"dataframe\">\n",
       "  <thead>\n",
       "    <tr style=\"text-align: right;\">\n",
       "      <th></th>\n",
       "      <th>parameter_3</th>\n",
       "      <th>parameter_2</th>\n",
       "      <th>parameter_1</th>\n",
       "    </tr>\n",
       "  </thead>\n",
       "  <tbody>\n",
       "    <tr>\n",
       "      <th>Observation_1</th>\n",
       "      <td>0.788614</td>\n",
       "      <td>0.965889</td>\n",
       "      <td>0.904601</td>\n",
       "    </tr>\n",
       "    <tr>\n",
       "      <th>Observation_2</th>\n",
       "      <td>-0.457994</td>\n",
       "      <td>0.468967</td>\n",
       "      <td>0.325121</td>\n",
       "    </tr>\n",
       "    <tr>\n",
       "      <th>Observation_3</th>\n",
       "      <td>0.120963</td>\n",
       "      <td>-0.548553</td>\n",
       "      <td>0.720224</td>\n",
       "    </tr>\n",
       "    <tr>\n",
       "      <th>Observation_4</th>\n",
       "      <td>0.690247</td>\n",
       "      <td>0.841944</td>\n",
       "      <td>-1.880558</td>\n",
       "    </tr>\n",
       "    <tr>\n",
       "      <th>Observation_5</th>\n",
       "      <td>-1.141831</td>\n",
       "      <td>-1.728246</td>\n",
       "      <td>-0.069389</td>\n",
       "    </tr>\n",
       "  </tbody>\n",
       "</table>\n",
       "</div>"
      ],
      "text/plain": [
       "               parameter_3  parameter_2  parameter_1\n",
       "Observation_1     0.788614     0.965889     0.904601\n",
       "Observation_2    -0.457994     0.468967     0.325121\n",
       "Observation_3     0.120963    -0.548553     0.720224\n",
       "Observation_4     0.690247     0.841944    -1.880558\n",
       "Observation_5    -1.141831    -1.728246    -0.069389"
      ]
     },
     "metadata": {},
     "output_type": "display_data"
    }
   ],
   "source": [
    "display(ObsCenterd)"
   ]
  },
  {
   "cell_type": "code",
   "execution_count": 66,
   "metadata": {
    "collapsed": false
   },
   "outputs": [],
   "source": [
    "# http://pandas.pydata.org/pandas-docs/stable/generated/pandas.DataFrame.dot.html\n",
    "DtD = ObsCenterd.T.dot(ObsCenterd)/(len(ObsCenterd) - 1)"
   ]
  },
  {
   "cell_type": "markdown",
   "metadata": {},
   "source": [
    "$V = \\frac{1}{n-1}D^{T}D$"
   ]
  },
  {
   "cell_type": "code",
   "execution_count": 67,
   "metadata": {
    "collapsed": false
   },
   "outputs": [
    {
     "data": {
      "text/html": [
       "<div>\n",
       "<table border=\"1\" class=\"dataframe\">\n",
       "  <thead>\n",
       "    <tr style=\"text-align: right;\">\n",
       "      <th></th>\n",
       "      <th>parameter_3</th>\n",
       "      <th>parameter_2</th>\n",
       "      <th>parameter_1</th>\n",
       "    </tr>\n",
       "  </thead>\n",
       "  <tbody>\n",
       "    <tr>\n",
       "      <th>parameter_3</th>\n",
       "      <td>0.656630</td>\n",
       "      <td>0.758772</td>\n",
       "      <td>-0.141805</td>\n",
       "    </tr>\n",
       "    <tr>\n",
       "      <th>parameter_2</th>\n",
       "      <td>0.758772</td>\n",
       "      <td>1.287371</td>\n",
       "      <td>-0.208067</td>\n",
       "    </tr>\n",
       "    <tr>\n",
       "      <th>parameter_1</th>\n",
       "      <td>-0.141805</td>\n",
       "      <td>-0.208067</td>\n",
       "      <td>1.246010</td>\n",
       "    </tr>\n",
       "  </tbody>\n",
       "</table>\n",
       "</div>"
      ],
      "text/plain": [
       "             parameter_3  parameter_2  parameter_1\n",
       "parameter_3     0.656630     0.758772    -0.141805\n",
       "parameter_2     0.758772     1.287371    -0.208067\n",
       "parameter_1    -0.141805    -0.208067     1.246010"
      ]
     },
     "metadata": {},
     "output_type": "display_data"
    }
   ],
   "source": [
    "display(DtD)"
   ]
  },
  {
   "cell_type": "markdown",
   "metadata": {},
   "source": [
    "# Calculate Covariance Matrix using DataFrame\n",
    "\n",
    "Above sections explain the nuts and bolts of the covariance matrix. It is important to understand the each step on of this process; however, for the practical purposes, you do not need to do all these steps on your dataset. Instead, apply each of these steps to your dataset, you can use the built-in methods to generate the covariance matrix. \n"
   ]
  },
  {
   "cell_type": "code",
   "execution_count": 68,
   "metadata": {
    "collapsed": false
   },
   "outputs": [
    {
     "data": {
      "text/html": [
       "<div>\n",
       "<table border=\"1\" class=\"dataframe\">\n",
       "  <thead>\n",
       "    <tr style=\"text-align: right;\">\n",
       "      <th></th>\n",
       "      <th>parameter_3</th>\n",
       "      <th>parameter_2</th>\n",
       "      <th>parameter_1</th>\n",
       "    </tr>\n",
       "  </thead>\n",
       "  <tbody>\n",
       "    <tr>\n",
       "      <th>parameter_3</th>\n",
       "      <td>0.656630</td>\n",
       "      <td>0.758772</td>\n",
       "      <td>-0.141805</td>\n",
       "    </tr>\n",
       "    <tr>\n",
       "      <th>parameter_2</th>\n",
       "      <td>0.758772</td>\n",
       "      <td>1.287371</td>\n",
       "      <td>-0.208067</td>\n",
       "    </tr>\n",
       "    <tr>\n",
       "      <th>parameter_1</th>\n",
       "      <td>-0.141805</td>\n",
       "      <td>-0.208067</td>\n",
       "      <td>1.246010</td>\n",
       "    </tr>\n",
       "  </tbody>\n",
       "</table>\n",
       "</div>"
      ],
      "text/plain": [
       "             parameter_3  parameter_2  parameter_1\n",
       "parameter_3     0.656630     0.758772    -0.141805\n",
       "parameter_2     0.758772     1.287371    -0.208067\n",
       "parameter_1    -0.141805    -0.208067     1.246010"
      ]
     },
     "execution_count": 68,
     "metadata": {},
     "output_type": "execute_result"
    }
   ],
   "source": [
    "ObsCenterd.cov()"
   ]
  },
  {
   "cell_type": "markdown",
   "metadata": {},
   "source": [
    "# Calculate Covariance Matrix using numpy arrays"
   ]
  },
  {
   "cell_type": "markdown",
   "metadata": {},
   "source": [
    "It is important to arrange the data (observations) in the proper format before calcaulte the covariance matrix. Arrange all the vectors (observations) as column vectors: each **column represent an observation and row represent parameters**. "
   ]
  },
  {
   "cell_type": "code",
   "execution_count": 69,
   "metadata": {
    "collapsed": false
   },
   "outputs": [
    {
     "data": {
      "text/plain": [
       "array([[ 1.3547205 ,  0.10811275,  0.68706947,  1.25635385, -0.57572443],\n",
       "       [ 0.72314792,  0.22622653, -0.79129412,  0.59920295, -1.97098655],\n",
       "       [ 1.07479824,  0.49531879,  0.89042182, -1.71036014,  0.10080855]])"
      ]
     },
     "execution_count": 69,
     "metadata": {},
     "output_type": "execute_result"
    }
   ],
   "source": [
    "P = np.column_stack([d1, d2, d3, d4, d5])\n",
    "P"
   ]
  },
  {
   "cell_type": "code",
   "execution_count": 70,
   "metadata": {
    "collapsed": false
   },
   "outputs": [
    {
     "data": {
      "text/plain": [
       "array([[ 0.65663041,  0.75877213, -0.14180543],\n",
       "       [ 0.75877213,  1.2873712 , -0.20806728],\n",
       "       [-0.14180543, -0.20806728,  1.24601032]])"
      ]
     },
     "execution_count": 70,
     "metadata": {},
     "output_type": "execute_result"
    }
   ],
   "source": [
    "np.cov(P)"
   ]
  }
 ],
 "metadata": {
  "kernelspec": {
   "display_name": "Python 2",
   "language": "python",
   "name": "python2"
  },
  "language_info": {
   "codemirror_mode": {
    "name": "ipython",
    "version": 2
   },
   "file_extension": ".py",
   "mimetype": "text/x-python",
   "name": "python",
   "nbconvert_exporter": "python",
   "pygments_lexer": "ipython2",
   "version": "2.7.13"
  },
  "toc": {
   "toc_cell": true,
   "toc_number_sections": true,
   "toc_section_display": "none",
   "toc_threshold": 6,
   "toc_window_display": true
  },
  "toc_position": {
   "height": "237px",
   "left": "798.665px",
   "right": "20px",
   "top": "-0.505692px",
   "width": "345px"
  }
 },
 "nbformat": 4,
 "nbformat_minor": 0
}
