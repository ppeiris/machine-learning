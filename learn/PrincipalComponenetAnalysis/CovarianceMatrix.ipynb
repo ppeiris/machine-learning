{
 "cells": [
  {
   "cell_type": "markdown",
   "metadata": {
    "toc": "true"
   },
   "source": [
    "# Table of Contents\n",
    " <p><div class=\"lev1\"><a href=\"#Variance-($\\sigma^{2}$)\"><span class=\"toc-item-num\">1&nbsp;&nbsp;</span>Variance (<span class=\"MathJax_Preview\" style=\"color: inherit;\"></span><span class=\"MathJax\" id=\"MathJax-Element-1-Frame\" tabindex=\"0\" data-mathml=\"<math xmlns=&quot;http://www.w3.org/1998/Math/MathML&quot;><msup><mi>&amp;#x03C3;</mi><mrow class=&quot;MJX-TeXAtom-ORD&quot;><mn>2</mn></mrow></msup></math>\" role=\"presentation\" style=\"position: relative;\"><nobr aria-hidden=\"true\"><span class=\"math\" id=\"MathJax-Span-1\" role=\"math\" style=\"width: 1.231em; display: inline-block;\"><span style=\"display: inline-block; position: relative; width: 1.01em; height: 0px; font-size: 122%;\"><span style=\"position: absolute; clip: rect(1.137em 1001.01em 2.177em -999.998em); top: -2.079em; left: 0.002em;\"><span class=\"mrow\" id=\"MathJax-Span-2\"><span class=\"msubsup\" id=\"MathJax-Span-3\"><span style=\"display: inline-block; position: relative; width: 1.01em; height: 0px;\"><span style=\"position: absolute; clip: rect(3.469em 1000.54em 4.1em -999.998em); top: -4.002em; left: 0.002em;\"><span class=\"mi\" id=\"MathJax-Span-4\" style=\"font-family: STIXMathJax_Main-italic;\">σ<span style=\"display: inline-block; overflow: hidden; height: 1px; width: 0.033em;\"></span></span><span style=\"display: inline-block; width: 0px; height: 4.005em;\"></span></span><span style=\"position: absolute; top: -4.381em; left: 0.601em;\"><span class=\"texatom\" id=\"MathJax-Span-5\"><span class=\"mrow\" id=\"MathJax-Span-6\"><span class=\"mn\" id=\"MathJax-Span-7\" style=\"font-size: 70.7%; font-family: STIXMathJax_Main;\">2</span></span></span><span style=\"display: inline-block; width: 0px; height: 4.005em;\"></span></span></span></span></span><span style=\"display: inline-block; width: 0px; height: 2.082em;\"></span></span></span><span style=\"display: inline-block; overflow: hidden; vertical-align: -0.037em; border-left: 0px solid; width: 0px; height: 1.117em;\"></span></span></nobr><span class=\"MJX_Assistive_MathML\" role=\"presentation\"><math xmlns=\"http://www.w3.org/1998/Math/MathML\"><msup><mi>σ</mi><mrow class=\"MJX-TeXAtom-ORD\"><mn>2</mn></mrow></msup></math></span></span><script type=\"math/tex\" id=\"MathJax-Element-1\">\\sigma^{2}</script>)</a></div><div class=\"lev3\"><a href=\"#Example-data\"><span class=\"toc-item-num\">1.0.1&nbsp;&nbsp;</span>Example data</a></div><div class=\"lev3\"><a href=\"#Deviation-Scores-($x_{i}---\\bar{x}$)\"><span class=\"toc-item-num\">1.0.2&nbsp;&nbsp;</span>Deviation Scores (<span class=\"MathJax_Preview\" style=\"color: inherit;\"><span class=\"MJXp-math\" id=\"MJXp-Span-2520\"><span class=\"MJXp-msubsup\" id=\"MJXp-Span-2521\"><span class=\"MJXp-mi MJXp-italic\" id=\"MJXp-Span-2522\" style=\"margin-right: 0.05em;\">x</span><span class=\"MJXp-mrow MJXp-script\" id=\"MJXp-Span-2523\" style=\"vertical-align: -0.4em;\"><span class=\"MJXp-mi MJXp-italic\" id=\"MJXp-Span-2524\">i</span></span></span><span class=\"MJXp-mo\" id=\"MJXp-Span-2525\" style=\"margin-left: 0.267em; margin-right: 0.267em;\">−</span><span class=\"MJXp-mrow\" id=\"MJXp-Span-2526\"><span class=\"MJXp-munderover\" id=\"MJXp-Span-2527\"><span><span class=\"MJXp-over\"><span class=\"\" style=\"margin-bottom: -1.17em;\"><span class=\"MJXp-mo\" id=\"MJXp-Span-2529\" style=\"margin-left: 0px; margin-right: 0px;\">ˉ</span></span><span class=\"\"><span class=\"MJXp-mi MJXp-italic\" id=\"MJXp-Span-2528\">x</span></span></span></span></span></span></span></span><script type=\"math/tex\" id=\"MathJax-Element-62\">x_{i} - \\bar{x}</script>)</a></div><div class=\"lev3\"><a href=\"#Use-Matrix-Algebra\"><span class=\"toc-item-num\">1.0.3&nbsp;&nbsp;</span>Use Matrix Algebra</a></div><div class=\"lev3\"><a href=\"#Centering-Example-Data\"><span class=\"toc-item-num\">1.0.4&nbsp;&nbsp;</span>Centering Example Data</a></div><div class=\"lev1\"><a href=\"#Covariance\"><span class=\"toc-item-num\">2&nbsp;&nbsp;</span>Covariance</a></div><div class=\"lev2\"><a href=\"#Covariance-Matrix\"><span class=\"toc-item-num\">2.1&nbsp;&nbsp;</span>Covariance Matrix</a></div><div class=\"lev2\"><a href=\"#Covariance-Matrix-with-Example-data\"><span class=\"toc-item-num\">2.2&nbsp;&nbsp;</span>Covariance Matrix with Example data</a></div><div class=\"lev1\"><a href=\"#Calculate-Covariance-Matrix-using-DataFrame\"><span class=\"toc-item-num\">3&nbsp;&nbsp;</span>Calculate Covariance Matrix using DataFrame</a></div><div class=\"lev1\"><a href=\"#Calculate-Covariance-Matrix-using-numpy-arrays\"><span class=\"toc-item-num\">4&nbsp;&nbsp;</span>Calculate Covariance Matrix using numpy arrays</a></div>"
   ]
  },
  {
   "cell_type": "code",
   "execution_count": 304,
   "metadata": {
    "collapsed": true
   },
   "outputs": [],
   "source": [
    "import pandas as pd\n",
    "import numpy as np\n",
    "import numpy as np\n",
    "from IPython.display import display, HTML, Math\n",
    "from sympy import init_printing, Matrix, symbols, sqrt\n",
    "init_printing(use_latex = 'mathjax')"
   ]
  },
  {
   "cell_type": "markdown",
   "metadata": {},
   "source": [
    "# Variance ($\\sigma^{2}$)\n",
    "\n",
    "Variance is the average squared deviation from the mean. This measure of the variability of spread in a set of data.\n",
    "\n",
    "\n",
    "$$\\sigma^{2}(x) = \\frac{\\Sigma{(x_{i} - \\bar{x})^2}}{N - 1}$$\n",
    "\n",
    "\n",
    "- $N$ - Number of observations \n",
    "- $\\bar{x}$ - mean of the given variable\n",
    "- $x_{i}$ - $i^{th}$ row variable\n",
    "\n",
    "\n"
   ]
  },
  {
   "cell_type": "markdown",
   "metadata": {},
   "source": [
    "### Example data\n",
    "\n",
    "Let us assume there is an experiment (observing stars in a galaxy, running an experiment in the lab or watching the stock market). Each observation measures some parameters. In the case of observing stars, we can record its Mass, Radius, Flux, and distance. Experiments in the lab could be a chemical reaction that has its temperature, reaction rate, color changes ... etc. Watching the stock market records high value, low value, buying price, selling price ...etc. We can pick any number of parameters, and that depends on the experiment and also what quantities we are interested in. For the practical purposes, let us assume all the parameters are recorded as floating point numbers.\n",
    "\n",
    "We can store these observations in matrix (table format)"
   ]
  },
  {
   "cell_type": "code",
   "execution_count": 305,
   "metadata": {
    "collapsed": false
   },
   "outputs": [],
   "source": [
    "# random normal values\n",
    "d1 = np.random.randn(3)\n",
    "d2 = np.random.randn(3)\n",
    "d3 = np.random.randn(3)\n",
    "d4 = np.random.randn(3)\n",
    "d5 = np.random.randn(3)\n",
    "\n",
    "Observations = pd.DataFrame(\n",
    "    [d1, d2, d3, d4, d5],\n",
    "    index = [\n",
    "        'Observation_1', \n",
    "        'Observation_2', \n",
    "        'Observation_3',\n",
    "        'Observation_4',\n",
    "        'Observation_5'\n",
    "    ],\n",
    "    columns={\n",
    "        'parameter_1', \n",
    "        'parameter_2', \n",
    "        'parameter_3'\n",
    "    }\n",
    ")"
   ]
  },
  {
   "cell_type": "markdown",
   "metadata": {},
   "source": [
    "Above code snippet generates some random values and put them into a data frame. In this dataset, we have three different **observations (row)**, and each observation records three separate **parameters (columns)**. "
   ]
  },
  {
   "cell_type": "markdown",
   "metadata": {
    "collapsed": false,
    "variables": {
     "Observations": "<div>\n<table border=\"1\" class=\"dataframe\">\n  <thead>\n    <tr style=\"text-align: right;\">\n      <th></th>\n      <th>parameter_3</th>\n      <th>parameter_2</th>\n      <th>parameter_1</th>\n    </tr>\n  </thead>\n  <tbody>\n    <tr>\n      <th>Observation_1</th>\n      <td>0.602378</td>\n      <td>0.218894</td>\n      <td>-1.248042</td>\n    </tr>\n    <tr>\n      <th>Observation_2</th>\n      <td>1.048618</td>\n      <td>1.014585</td>\n      <td>2.268149</td>\n    </tr>\n    <tr>\n      <th>Observation_3</th>\n      <td>0.955461</td>\n      <td>-0.060892</td>\n      <td>0.565187</td>\n    </tr>\n    <tr>\n      <th>Observation_4</th>\n      <td>0.871734</td>\n      <td>-2.309762</td>\n      <td>0.618511</td>\n    </tr>\n    <tr>\n      <th>Observation_5</th>\n      <td>0.616055</td>\n      <td>1.426026</td>\n      <td>-0.084707</td>\n    </tr>\n  </tbody>\n</table>\n</div>"
    }
   },
   "source": [
    "{{Observations}}"
   ]
  },
  {
   "cell_type": "markdown",
   "metadata": {},
   "source": [
    "### Deviation Scores ($x_{i} - \\bar{x}$)\n",
    "How to center. Centered independent variables are obtained just by subtracting the mean of the variable. Centering data is important because that makes interpretation os parameter estimators easier.\n",
    "\n",
    "\n",
    "We have 3 parameters in the above dataset, and we have 5 observations. We need to center all three parameters in this data set. Will take a look at how to center **parameter_1** in details \n",
    "\n",
    "**Centering paramter_1**\n",
    "\n",
    "- **Step 1**: Calculate the mean value of the **parameter_1 **\n",
    "\n",
    "$$\\mu_{parameter\\_1} = \\frac{1}{5}\\Big(\\sum^{5}_{observation=1}{\\big(parameter\\_1_{observation}\\big)}\\Big)$$"
   ]
  },
  {
   "cell_type": "code",
   "execution_count": 306,
   "metadata": {
    "collapsed": false
   },
   "outputs": [],
   "source": [
    "mu_parameter_1 = Observations[['parameter_1']].mean()"
   ]
  },
  {
   "cell_type": "markdown",
   "metadata": {
    "variables": {
     "(Observations[['parameter_1']])": "<div>\n<table border=\"1\" class=\"dataframe\">\n  <thead>\n    <tr style=\"text-align: right;\">\n      <th></th>\n      <th>parameter_1</th>\n    </tr>\n  </thead>\n  <tbody>\n    <tr>\n      <th>Observation_1</th>\n      <td>-1.248042</td>\n    </tr>\n    <tr>\n      <th>Observation_2</th>\n      <td>2.268149</td>\n    </tr>\n    <tr>\n      <th>Observation_3</th>\n      <td>0.565187</td>\n    </tr>\n    <tr>\n      <th>Observation_4</th>\n      <td>0.618511</td>\n    </tr>\n    <tr>\n      <th>Observation_5</th>\n      <td>-0.084707</td>\n    </tr>\n  </tbody>\n</table>\n</div>",
     "Observations[['parameter_1']] - mu_parameter_1": "<div>\n<table border=\"1\" class=\"dataframe\">\n  <thead>\n    <tr style=\"text-align: right;\">\n      <th></th>\n      <th>parameter_1</th>\n    </tr>\n  </thead>\n  <tbody>\n    <tr>\n      <th>Observation_1</th>\n      <td>-1.671862</td>\n    </tr>\n    <tr>\n      <th>Observation_2</th>\n      <td>1.844330</td>\n    </tr>\n    <tr>\n      <th>Observation_3</th>\n      <td>0.141367</td>\n    </tr>\n    <tr>\n      <th>Observation_4</th>\n      <td>0.194691</td>\n    </tr>\n    <tr>\n      <th>Observation_5</th>\n      <td>-0.508527</td>\n    </tr>\n  </tbody>\n</table>\n</div>",
     "mu_parameter_1['parameter_1']": "$$0.423819763334$$"
    }
   },
   "source": [
    "- **Step 2**: Remove the mean value from the **parameter_1** values\n",
    "    - Raw Data\n",
    "    {{(Observations[['parameter_1']])}}\n",
    "    - **parameter_1**  mean {{mu_parameter_1['parameter_1']}}\n",
    "    - centred Data\n",
    "    {{Observations[['parameter_1']] - mu_parameter_1}}"
   ]
  },
  {
   "cell_type": "markdown",
   "metadata": {},
   "source": [
    "### Use Matrix Algebra \n",
    "\n",
    "Calculating deviation scores and centering all the parameters can be done using linear algebra matrix manipulations. This is a very handy way to manipulate large amount of data.\n",
    "\n",
    "\n",
    "- Let us assume the raw data is in the Matrix $X$. Each row is an observation, and each column is a parameter.\n",
    "\n",
    "\n",
    "$$X = \n",
    "\\begin{bmatrix}\n",
    "\\vec{x}_{1} \\\\\n",
    "\\vec{x}_{2} \\\\\n",
    ". \\\\\n",
    "\\vec{x}_{m}\n",
    "\\end{bmatrix} = \n",
    "\\begin{bmatrix} \n",
    "x_{11} & x_{12} & ... & x_{1n} \\\\ \n",
    "x_{21} & x_{22} & ... & x_{2n} \\\\\n",
    ". & . & ... & . \\\\\n",
    "x_{m1} & x_{m2} & ... & x_{mn} \\\\\n",
    "\\end{bmatrix}_{m\\times n}$$\n",
    " \n",
    " \n",
    "- Define a column vector of ones \n",
    "\n",
    "$$L = \n",
    "\\begin{bmatrix}\n",
    "1 \\\\\n",
    "1 \\\\\n",
    ". \\\\\n",
    "1\n",
    "\\end{bmatrix}_{m\\times 1}$$\n",
    "\n",
    "- Build a square matrix of ones \n",
    "\n",
    "$$LL^{T} = \\begin{bmatrix}\n",
    "1 \\\\\n",
    "1 \\\\\n",
    ". \\\\\n",
    "1\n",
    "\\end{bmatrix}\n",
    "\\begin{bmatrix}\n",
    "1 & 1 & . & 1 \\\\\n",
    "\\end{bmatrix} = \\begin{bmatrix} \n",
    "1 & 1 & ... & 1 \\\\ \n",
    "1 & 1 & ... & 1 \\\\\n",
    ". & . & ... & . \\\\\n",
    "1 & 1 & ... & 1 \\\\\n",
    " \\end{bmatrix}_{m\\times m}$$\n"
   ]
  },
  {
   "cell_type": "markdown",
   "metadata": {},
   "source": [
    " - Transform the raw scores from matrix $X$ into deviation scores for matrix $D$.\n",
    " \n",
    " $$D = X-\\frac{1}{m}(LL^{T})X$$\n",
    " \n",
    " $$D = \n",
    "\\begin{bmatrix} \n",
    "x_{11} & x_{12} & ... & x_{1n} \\\\ \n",
    "x_{21} & x_{22} & ... & x_{2n} \\\\\n",
    ". & . & ... & . \\\\\n",
    "x_{m1} & x_{m2} & ... & x_{mn} \\\\\n",
    "\\end{bmatrix}_{m\\times n} - \\frac{1}{m}\\begin{bmatrix} \n",
    "1 & 1 & ... & 1 \\\\ \n",
    "1 & 1 & ... & 1 \\\\\n",
    ". & . & ... & . \\\\\n",
    "1 & 1 & ... & 1 \\\\\n",
    " \\end{bmatrix}_{m\\times m}\\begin{bmatrix} \n",
    "x_{11} & x_{12} & ... & x_{1n} \\\\ \n",
    "x_{21} & x_{22} & ... & x_{2n} \\\\\n",
    ". & . & ... & . \\\\\n",
    "x_{m1} & x_{m2} & ... & x_{mn} \\\\\n",
    "\\end{bmatrix}_{m\\times n}$$\n",
    " "
   ]
  },
  {
   "cell_type": "markdown",
   "metadata": {},
   "source": [
    "$$D = \n",
    "\\begin{bmatrix} \n",
    "x_{11} & x_{12} & ... & x_{1n} \\\\ \n",
    "x_{21} & x_{22} & ... & x_{2n} \\\\\n",
    ". & . & ... & . \\\\\n",
    "x_{m1} & x_{m2} & ... & x_{mn} \\\\\n",
    "\\end{bmatrix}_{m\\times n} -\n",
    "\\begin{bmatrix} \n",
    "\\frac{1}{m}\\sum_{i=1}^{m}x_{i1} & \\frac{1}{m}\\sum_{i=1}^{m}x_{i2} & ... & \\frac{1}{m}\\sum_{i=1}^{m}x_{in} \\\\ \n",
    "\\frac{1}{m}\\sum_{i=1}^{m}x_{i1} & \\frac{1}{m}\\sum_{i=1}^{m}x_{i2} & ... & \\frac{1}{m}\\sum_{i=1}^{m}x_{in} \\\\ \n",
    ". & . & ... & . \\\\\n",
    "\\frac{1}{m}\\sum_{i=1}^{m}x_{i1} & \\frac{1}{m}\\sum_{i=1}^{m}x_{i2} & ... & \\frac{1}{m}\\sum_{i=1}^{m}x_{in} \\\\ \n",
    "\\end{bmatrix}_{m\\times n}$$"
   ]
  },
  {
   "cell_type": "markdown",
   "metadata": {},
   "source": [
    "$$D = \n",
    "\\begin{bmatrix} \n",
    "x_{11} & x_{12} & ... & x_{1n} \\\\ \n",
    "x_{21} & x_{22} & ... & x_{2n} \\\\\n",
    ". & . & ... & . \\\\\n",
    "x_{m1} & x_{m2} & ... & x_{mn} \\\\\n",
    "\\end{bmatrix}_{m\\times n} -\n",
    "\\begin{bmatrix} \n",
    "\\mu_{param_1} & \\mu_{param_2} & ... & \\mu_{param_n} \\\\ \n",
    "\\mu_{param_1} & \\mu_{param_2} & ... & \\mu_{param_n} \\\\ \n",
    ". & . & ... & . \\\\\n",
    "\\mu_{param_1} & \\mu_{param_2} & ... & \\mu_{param_n} \\\\ \n",
    "\\end{bmatrix}_{m\\times n}$$\n"
   ]
  },
  {
   "cell_type": "markdown",
   "metadata": {},
   "source": [
    "$$D = \\begin{bmatrix} \n",
    "(x_{11} - \\mu_{param_1}) & (x_{12} - \\mu_{param_2}) & ... & (x_{1n} - \\mu_{param_n})\\\\ \n",
    "(x_{21} - \\mu_{param_1}) & (x_{22} - \\mu_{param_2}) & ... & (x_{2n} - \\mu_{param_n})\\\\\n",
    ". & . & ... & . \\\\\n",
    "(x_{m1} - \\mu_{param_1}) & (x_{m2} - \\mu_{param_2}) & ... & (x_{mn} - \\mu_{param_n})\\\\\n",
    "\\end{bmatrix}_{m\\times n}$$"
   ]
  },
  {
   "cell_type": "markdown",
   "metadata": {},
   "source": [
    "- Centerd data\n",
    "$$D = \n",
    "\\begin{bmatrix} \n",
    "d_{11} & d_{12} & ... & d_{1n} \\\\ \n",
    "d_{21} & d_{22} & ... & d_{2n} \\\\\n",
    ". & . & ... & . \\\\\n",
    "d_{m1} & d_{m2} & ... & d_{mn} \\\\\n",
    "\\end{bmatrix}_{m\\times n}$$\n",
    "\n"
   ]
  },
  {
   "cell_type": "markdown",
   "metadata": {},
   "source": [
    "### Centering Example Data "
   ]
  },
  {
   "cell_type": "markdown",
   "metadata": {
    "variables": {
     "Observations": "<div>\n<table border=\"1\" class=\"dataframe\">\n  <thead>\n    <tr style=\"text-align: right;\">\n      <th></th>\n      <th>parameter_3</th>\n      <th>parameter_2</th>\n      <th>parameter_1</th>\n    </tr>\n  </thead>\n  <tbody>\n    <tr>\n      <th>Observation_1</th>\n      <td>0.602378</td>\n      <td>0.218894</td>\n      <td>-1.248042</td>\n    </tr>\n    <tr>\n      <th>Observation_2</th>\n      <td>1.048618</td>\n      <td>1.014585</td>\n      <td>2.268149</td>\n    </tr>\n    <tr>\n      <th>Observation_3</th>\n      <td>0.955461</td>\n      <td>-0.060892</td>\n      <td>0.565187</td>\n    </tr>\n    <tr>\n      <th>Observation_4</th>\n      <td>0.871734</td>\n      <td>-2.309762</td>\n      <td>0.618511</td>\n    </tr>\n    <tr>\n      <th>Observation_5</th>\n      <td>0.616055</td>\n      <td>1.426026</td>\n      <td>-0.084707</td>\n    </tr>\n  </tbody>\n</table>\n</div>"
    }
   },
   "source": [
    "- Raw Data\n",
    "{{Observations}}\n",
    "- Centering data"
   ]
  },
  {
   "cell_type": "code",
   "execution_count": 307,
   "metadata": {
    "collapsed": false
   },
   "outputs": [],
   "source": [
    "ObsCenterd = Observations - Observations.mean(axis=0)"
   ]
  },
  {
   "cell_type": "markdown",
   "metadata": {
    "variables": {
     "ObsCenterd": "<div>\n<table border=\"1\" class=\"dataframe\">\n  <thead>\n    <tr style=\"text-align: right;\">\n      <th></th>\n      <th>parameter_3</th>\n      <th>parameter_2</th>\n      <th>parameter_1</th>\n    </tr>\n  </thead>\n  <tbody>\n    <tr>\n      <th>Observation_1</th>\n      <td>-0.216471</td>\n      <td>0.161124</td>\n      <td>-1.671862</td>\n    </tr>\n    <tr>\n      <th>Observation_2</th>\n      <td>0.229768</td>\n      <td>0.956815</td>\n      <td>1.844330</td>\n    </tr>\n    <tr>\n      <th>Observation_3</th>\n      <td>0.136612</td>\n      <td>-0.118663</td>\n      <td>0.141367</td>\n    </tr>\n    <tr>\n      <th>Observation_4</th>\n      <td>0.052885</td>\n      <td>-2.367532</td>\n      <td>0.194691</td>\n    </tr>\n    <tr>\n      <th>Observation_5</th>\n      <td>-0.202794</td>\n      <td>1.368256</td>\n      <td>-0.508527</td>\n    </tr>\n  </tbody>\n</table>\n</div>"
    }
   },
   "source": [
    "{{ObsCenterd}}"
   ]
  },
  {
   "cell_type": "markdown",
   "metadata": {},
   "source": [
    "# Covariance\n",
    "\n",
    "## Covariance Matrix \n",
    "\n",
    "**Covariance** is a measure of the extent to which corresponding elements from two sets of ordered data move in the same direction. $X$ and $Y$ are two vectors.\n",
    " $$V = \\sigma^{2}_{XY} = \\frac{1}{N-1}\\sum(X_i - \\bar{X})(Y_i-\\bar{Y})$$\n",
    " \n",
    " Dividing by N-1 give us the unbiased estimator [read more](https://en.wikipedia.org/wiki/Unbiased_estimation_of_standard_deviation)"
   ]
  },
  {
   "cell_type": "markdown",
   "metadata": {},
   "source": [
    "$$V = \\frac{1}{m-1}D^{T}D$$"
   ]
  },
  {
   "cell_type": "markdown",
   "metadata": {},
   "source": [
    "$$V = \\frac{1}{m-1}\n",
    "\\begin{bmatrix} \n",
    "d_{11} & d_{21} & ... & d_{m1} \\\\\n",
    "d_{12} & d_{22} & ... & d_{m2} \\\\\n",
    ". \t   & \t.\t& ... &\t. \\\\\n",
    "d_{1n} & d_{2n} & ... & d_{mn} \\\\\n",
    "\\end{bmatrix}_{n\\times m} \\times\n",
    "\\begin{bmatrix} \n",
    "d_{11} & d_{12} & ... & d_{1n} \\\\ \n",
    "d_{21} & d_{22} & ... & d_{2n} \\\\\n",
    ". & . & ... & . \\\\\n",
    "d_{m1} & d_{m2} & ... & d_{mn} \\\\\n",
    "\\end{bmatrix}_{m\\times n}\n",
    "$$\n",
    "\n",
    "\n"
   ]
  },
  {
   "cell_type": "markdown",
   "metadata": {},
   "source": [
    "$$V = \n",
    "\\begin{bmatrix} \n",
    "\\frac{1}{m-1}\\sum_{i=1}^{m-1}d^{2}_{i1} & \\frac{1}{m-1}\\sum_{i=1}^{m-1}d_{i1}d_{i2} & ... & \\frac{1}{m-1}\\sum_{i=1}^{m-1}d_{i1}d_{in} \\\\ \n",
    "\\frac{1}{m-1}\\sum_{i=1}^{m-1}d_{i2}d_{i1} & \\frac{1}{m-1}\\sum_{i=1}^{m-1}d^{2}_{i2} & ... & \\frac{1}{m-1}\\sum_{i=1}^{m-1}d_{i2}d_{in} \\\\ \n",
    ". & . & ... & . \\\\\n",
    "\\frac{1}{m-1}\\sum_{i=1}^{m-1}d_{in}d_{i1} & \\frac{1}{m-1}\\sum_{i=1}^{m-1}d_{in}d_{i2} & ... & \\frac{1}{m-1}\\sum_{i=1}^{m-1}d^{2}_{nn} \\\\ \n",
    "\\end{bmatrix}_{n\\times n}$$\n"
   ]
  },
  {
   "cell_type": "markdown",
   "metadata": {},
   "source": [
    "$$V = \n",
    "\\begin{bmatrix} \n",
    "\\sigma^{2}_{d_{i1}d_{i1}} & \\sigma^{2}_{d_{i1}d_{i2}} & ... & \\sigma^{2}_{d_{i1}d_{in}} \\\\ \n",
    "\\sigma^{2}_{d_{i2}d_{i1}} & \\sigma^{2}_{d_{i2}d_{i2}} & ... & \\sigma^{2}_{d_{i2}d_{in}} \\\\ \n",
    ". & . & ... & . \\\\\n",
    "\\sigma^{2}_{d_{in}d_{i1}} & \\sigma^{2}_{d_{in}d_{i2}} & ... & \\sigma^{2}_{d_{nn}d_{nn}} \\\\ \n",
    "\\end{bmatrix}_{n\\times n}$$"
   ]
  },
  {
   "cell_type": "markdown",
   "metadata": {},
   "source": [
    "\n",
    "\n",
    "The **covariance** measures the degree of the linear relationship between two variables.\n",
    "\n",
    "- $\\sigma^2_{XY} >> 0$, A and B are positively correlated\n",
    "- $\\sigma^2_{XY} = 0$, A and B are NOT correlated \n",
    "- $\\sigma^2_{XY} << 0$, A and B are negatively correlated\n",
    "- $|\\sigma^2_{XY}|$, Absolute magnitude of the covariance measure the degree of redundancy\n",
    "- $\\sigma^2_{XY} = \\sigma^2_{X}$ if $X=Y$\n"
   ]
  },
  {
   "cell_type": "markdown",
   "metadata": {},
   "source": [
    "The $ij^{th}$ element in the $V$ ($V_{X_{ij}}$) is the dot product between the vector $i^{th}$ parameter with the vector of the $j^{th}$ parameter. \n",
    "\n",
    "- $V$ is a square symmetric $n\\times n$ matrix \n",
    "- The diagonal terms of $V$ are the **variance** of particular observations types\n",
    "- The off-diagonal terms of $V$ are the **covariance** between observation types \n",
    "\n",
    "\n",
    "\n",
    "$V$ capture all the covariance among all the possible parameters in observations. The covariance values reflect the noise and redundancy in the parameters.\n",
    "\n",
    "- Diagonal terms, by assumption, large values correspond to an interesting structure.\n",
    "- Off-diagonal terms large magnitudes correspond to high redundancy \n",
    "\n",
    "\n",
    "Let us assume we can manipulate this covariance matrix. If you can do that, what features we want to optimize ? (Will cover this in another post)\n"
   ]
  },
  {
   "cell_type": "markdown",
   "metadata": {},
   "source": [
    "## Covariance Matrix with Example data "
   ]
  },
  {
   "cell_type": "markdown",
   "metadata": {
    "variables": {
     "ObsCenterd.T": "<div>\n<table border=\"1\" class=\"dataframe\">\n  <thead>\n    <tr style=\"text-align: right;\">\n      <th></th>\n      <th>Observation_1</th>\n      <th>Observation_2</th>\n      <th>Observation_3</th>\n      <th>Observation_4</th>\n      <th>Observation_5</th>\n    </tr>\n  </thead>\n  <tbody>\n    <tr>\n      <th>parameter_3</th>\n      <td>-0.216471</td>\n      <td>0.229768</td>\n      <td>0.136612</td>\n      <td>0.052885</td>\n      <td>-0.202794</td>\n    </tr>\n    <tr>\n      <th>parameter_2</th>\n      <td>0.161124</td>\n      <td>0.956815</td>\n      <td>-0.118663</td>\n      <td>-2.367532</td>\n      <td>1.368256</td>\n    </tr>\n    <tr>\n      <th>parameter_1</th>\n      <td>-1.671862</td>\n      <td>1.844330</td>\n      <td>0.141367</td>\n      <td>0.194691</td>\n      <td>-0.508527</td>\n    </tr>\n  </tbody>\n</table>\n</div>"
    }
   },
   "source": [
    "$D^{T}$ = {{ObsCenterd.T}}"
   ]
  },
  {
   "cell_type": "markdown",
   "metadata": {
    "variables": {
     "ObsCenterd": "<div>\n<table border=\"1\" class=\"dataframe\">\n  <thead>\n    <tr style=\"text-align: right;\">\n      <th></th>\n      <th>parameter_3</th>\n      <th>parameter_2</th>\n      <th>parameter_1</th>\n    </tr>\n  </thead>\n  <tbody>\n    <tr>\n      <th>Observation_1</th>\n      <td>-0.216471</td>\n      <td>0.161124</td>\n      <td>-1.671862</td>\n    </tr>\n    <tr>\n      <th>Observation_2</th>\n      <td>0.229768</td>\n      <td>0.956815</td>\n      <td>1.844330</td>\n    </tr>\n    <tr>\n      <th>Observation_3</th>\n      <td>0.136612</td>\n      <td>-0.118663</td>\n      <td>0.141367</td>\n    </tr>\n    <tr>\n      <th>Observation_4</th>\n      <td>0.052885</td>\n      <td>-2.367532</td>\n      <td>0.194691</td>\n    </tr>\n    <tr>\n      <th>Observation_5</th>\n      <td>-0.202794</td>\n      <td>1.368256</td>\n      <td>-0.508527</td>\n    </tr>\n  </tbody>\n</table>\n</div>"
    }
   },
   "source": [
    "$D$ = {{ObsCenterd}}"
   ]
  },
  {
   "cell_type": "code",
   "execution_count": 308,
   "metadata": {
    "collapsed": false
   },
   "outputs": [],
   "source": [
    "# http://pandas.pydata.org/pandas-docs/stable/generated/pandas.DataFrame.dot.html\n",
    "DtD = ObsCenterd.T.dot(ObsCenterd)/(len(ObsCenterd) - 1)"
   ]
  },
  {
   "cell_type": "markdown",
   "metadata": {
    "variables": {
     "DtD": "<div>\n<table border=\"1\" class=\"dataframe\">\n  <thead>\n    <tr style=\"text-align: right;\">\n      <th></th>\n      <th>parameter_3</th>\n      <th>parameter_2</th>\n      <th>parameter_1</th>\n    </tr>\n  </thead>\n  <tbody>\n    <tr>\n      <th>parameter_3</th>\n      <td>0.040560</td>\n      <td>-0.058481</td>\n      <td>0.229603</td>\n    </tr>\n    <tr>\n      <th>parameter_2</th>\n      <td>-0.058481</td>\n      <td>2.108218</td>\n      <td>0.080450</td>\n    </tr>\n    <tr>\n      <th>parameter_1</th>\n      <td>0.229603</td>\n      <td>0.080450</td>\n      <td>1.628290</td>\n    </tr>\n  </tbody>\n</table>\n</div>"
    }
   },
   "source": [
    "$V = \\frac{1}{n-1}D^{T}D$\n",
    "{{DtD}}"
   ]
  },
  {
   "cell_type": "markdown",
   "metadata": {},
   "source": [
    "# Calculate Covariance Matrix using DataFrame \n"
   ]
  },
  {
   "cell_type": "code",
   "execution_count": 309,
   "metadata": {
    "collapsed": false
   },
   "outputs": [
    {
     "data": {
      "text/html": [
       "<div>\n",
       "<table border=\"1\" class=\"dataframe\">\n",
       "  <thead>\n",
       "    <tr style=\"text-align: right;\">\n",
       "      <th></th>\n",
       "      <th>parameter_3</th>\n",
       "      <th>parameter_2</th>\n",
       "      <th>parameter_1</th>\n",
       "    </tr>\n",
       "  </thead>\n",
       "  <tbody>\n",
       "    <tr>\n",
       "      <th>parameter_3</th>\n",
       "      <td>0.040560</td>\n",
       "      <td>-0.058481</td>\n",
       "      <td>0.229603</td>\n",
       "    </tr>\n",
       "    <tr>\n",
       "      <th>parameter_2</th>\n",
       "      <td>-0.058481</td>\n",
       "      <td>2.108218</td>\n",
       "      <td>0.080450</td>\n",
       "    </tr>\n",
       "    <tr>\n",
       "      <th>parameter_1</th>\n",
       "      <td>0.229603</td>\n",
       "      <td>0.080450</td>\n",
       "      <td>1.628290</td>\n",
       "    </tr>\n",
       "  </tbody>\n",
       "</table>\n",
       "</div>"
      ],
      "text/plain": [
       "             parameter_3  parameter_2  parameter_1\n",
       "parameter_3     0.040560    -0.058481     0.229603\n",
       "parameter_2    -0.058481     2.108218     0.080450\n",
       "parameter_1     0.229603     0.080450     1.628290"
      ]
     },
     "execution_count": 309,
     "metadata": {},
     "output_type": "execute_result"
    }
   ],
   "source": [
    "ObsCenterd.cov()"
   ]
  },
  {
   "cell_type": "code",
   "execution_count": null,
   "metadata": {
    "collapsed": true
   },
   "outputs": [],
   "source": []
  },
  {
   "cell_type": "markdown",
   "metadata": {},
   "source": [
    "# Calculate Covariance Matrix using numpy arrays"
   ]
  },
  {
   "cell_type": "markdown",
   "metadata": {},
   "source": [
    "It is important to arrange the data (observations) in the proper format before calcaulte the covariance matrix. Arrange all the vectors (observations) as column vectors: each **column represent an observation and row represent parameters**. "
   ]
  },
  {
   "cell_type": "code",
   "execution_count": 310,
   "metadata": {
    "collapsed": false
   },
   "outputs": [
    {
     "data": {
      "text/plain": [
       "array([[ 0.60237822,  1.04861759,  0.95546111,  0.87173404,  0.61605464],\n",
       "       [ 0.21889397,  1.01458549, -0.06089231, -2.30976217,  1.4260264 ],\n",
       "       [-1.24804175,  2.26814947,  0.56518713,  0.61851106, -0.08470709]])"
      ]
     },
     "execution_count": 310,
     "metadata": {},
     "output_type": "execute_result"
    }
   ],
   "source": [
    "P = np.column_stack([d1, d2, d3, d4, d5])\n",
    "P"
   ]
  },
  {
   "cell_type": "code",
   "execution_count": 311,
   "metadata": {
    "collapsed": false
   },
   "outputs": [
    {
     "data": {
      "text/plain": [
       "array([[ 0.04055961, -0.05848122,  0.22960333],\n",
       "       [-0.05848122,  2.10821793,  0.08044957],\n",
       "       [ 0.22960333,  0.08044957,  1.62829049]])"
      ]
     },
     "execution_count": 311,
     "metadata": {},
     "output_type": "execute_result"
    }
   ],
   "source": [
    "np.cov(P)"
   ]
  }
 ],
 "metadata": {
  "kernelspec": {
   "display_name": "Python 2",
   "language": "python",
   "name": "python2"
  },
  "language_info": {
   "codemirror_mode": {
    "name": "ipython",
    "version": 2
   },
   "file_extension": ".py",
   "mimetype": "text/x-python",
   "name": "python",
   "nbconvert_exporter": "python",
   "pygments_lexer": "ipython2",
   "version": "2.7.13"
  },
  "toc": {
   "toc_cell": true,
   "toc_number_sections": true,
   "toc_section_display": "block",
   "toc_threshold": 6,
   "toc_window_display": true
  },
  "toc_position": {
   "height": "237px",
   "left": "788.69px",
   "right": "20px",
   "top": "474.523px",
   "width": "345px"
  }
 },
 "nbformat": 4,
 "nbformat_minor": 0
}
