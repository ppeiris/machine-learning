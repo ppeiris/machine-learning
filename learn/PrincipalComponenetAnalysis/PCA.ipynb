{
 "cells": [
  {
   "cell_type": "markdown",
   "metadata": {},
   "source": [
    "# Principal Component Analysis (PCA)"
   ]
  },
  {
   "cell_type": "markdown",
   "metadata": {},
   "source": [
    "Principle Component Analysis (PCA) is a standard tool in modern data analysis. PCA Provides a roadmap for how to reduce a complex data set to a lower dimension to reveal the sometimes hidden, simplified structures that often underline it. The goal of this posting is to provide some intuitive understanding of PCA via some coding examples. To understand what's happening behind the scene (mathematics) you need to have a sound knowledge of linear algebra (matrix algebra).\n",
    "\n",
    "# Reading\n",
    "\n",
    "There are plenty of literature out there on PCA, among all I found following paper and the video is well written and explain all the nuance in PCA.\n",
    "\n",
    "Paper: https://arxiv.org/pdf/1404.1100.pdf\n",
    "\n",
    "Lecture: [video](https://www.youtube.com/watch?v=a9jdQGybYmE \"link title\")"
   ]
  },
  {
   "cell_type": "code",
   "execution_count": 2,
   "metadata": {
    "collapsed": true
   },
   "outputs": [],
   "source": [
    "import pandas as pd\n",
    "import numpy as np\n",
    "import numpy as np\n",
    "from sklearn.decomposition import PCA\n",
    "from IPython.display import display, HTML\n",
    "from sympy import init_printing, Matrix, symbols, sqrt\n",
    "init_printing(use_latex = 'mathjax')"
   ]
  },
  {
   "cell_type": "markdown",
   "metadata": {},
   "source": [
    "# Naive Basis\n",
    "\n",
    "Each sample (row) $\\vec{X}$ is a $m=9$ dimentional vector, each dimention is a some measurement of the location. There are 329 vectors in the dataset. Since each vector is a $m$ dimentional, the vector lies in an $m$-dimentional vector space span by some orthonormal basis. Lets say the basis are $[b_1...b_9]^T$\n",
    "\n",
    "Now we can write a vector $\\vec{X} =b_1x_1 + b_2x_2 + b_3x_3 + b_4x_4 + b_5x_5 + b_6x_6 + b_7x_7 + b_8x_8 + b_9x_9$\n",
    "\n",
    "\n",
    "we can write the basis as $m\\times m$ metrix $B$. We could use any orthonormal basis, but the naive choice would be identity matrix. $B$ is call the **naive basis** (naive basis reflects the method we gathered the data) \n"
   ]
  },
  {
   "cell_type": "code",
   "execution_count": 4,
   "metadata": {
    "collapsed": false,
    "scrolled": false
   },
   "outputs": [
    {
     "data": {
      "text/latex": [
       "$$\\left[\\begin{matrix}1 & 0 & 0 & 0 & 0 & 0 & 0 & 0 & 0\\\\0 & 1 & 0 & 0 & 0 & 0 & 0 & 0 & 0\\\\0 & 0 & 1 & 0 & 0 & 0 & 0 & 0 & 0\\\\0 & 0 & 0 & 1 & 0 & 0 & 0 & 0 & 0\\\\0 & 0 & 0 & 0 & 1 & 0 & 0 & 0 & 0\\\\0 & 0 & 0 & 0 & 0 & 1 & 0 & 0 & 0\\\\0 & 0 & 0 & 0 & 0 & 0 & 1 & 0 & 0\\\\0 & 0 & 0 & 0 & 0 & 0 & 0 & 1 & 0\\\\0 & 0 & 0 & 0 & 0 & 0 & 0 & 0 & 1\\end{matrix}\\right]$$"
      ],
      "text/plain": [
       "⎡1  0  0  0  0  0  0  0  0⎤\n",
       "⎢                         ⎥\n",
       "⎢0  1  0  0  0  0  0  0  0⎥\n",
       "⎢                         ⎥\n",
       "⎢0  0  1  0  0  0  0  0  0⎥\n",
       "⎢                         ⎥\n",
       "⎢0  0  0  1  0  0  0  0  0⎥\n",
       "⎢                         ⎥\n",
       "⎢0  0  0  0  1  0  0  0  0⎥\n",
       "⎢                         ⎥\n",
       "⎢0  0  0  0  0  1  0  0  0⎥\n",
       "⎢                         ⎥\n",
       "⎢0  0  0  0  0  0  1  0  0⎥\n",
       "⎢                         ⎥\n",
       "⎢0  0  0  0  0  0  0  1  0⎥\n",
       "⎢                         ⎥\n",
       "⎣0  0  0  0  0  0  0  0  1⎦"
      ]
     },
     "metadata": {},
     "output_type": "display_data"
    }
   ],
   "source": [
    "B = Matrix([[1, 0, 0, 0, 0, 0, 0, 0, 0],[0, 1, 0, 0, 0, 0, 0, 0, 0], [0, 0, 1, 0, 0, 0, 0, 0, 0],[0,0, 0, 1, 0, 0, 0, 0, 0],[0,0, 0, 0, 1, 0, 0, 0, 0],[0,0, 0, 0, 0, 1, 0, 0, 0],[0,0, 0, 0, 0, 0, 1, 0, 0],[0,0, 0, 0, 0, 0, 0, 1, 0],[0,0, 0, 0, 0, 0, 0, 0, 1]])\n",
    "display(B)"
   ]
  },
  {
   "cell_type": "markdown",
   "metadata": {},
   "source": [
    "$$ B = \\begin{bmatrix} b_1 \\\\ b_2 \\\\ b_3 \\\\ b_4 \\\\ b_5 \\\\ b_6 \\\\ b_7 \\\\ b_8 \\\\ b_9 \\end{bmatrix} = \\begin{bmatrix} 1 & 0 & 0 & 0 & 0 & 0 & 0 & 0 & 0 \\\\ 0 & 1 & 0 & 0 & 0 & 0 & 0 & 0 & 0 \\\\ 0 & 0 & 1 & 0 & 0 & 0 & 0 & 0 & 0 \\\\ 0 &0 & 0 & 1 & 0 & 0 & 0 & 0 & 0 \\\\ 0 &0 & 0 & 0 & 1 & 0 & 0 & 0 & 0 \\\\ 0 &0 & 0 & 0 & 0 & 1 & 0 & 0 & 0 \\\\ 0 &0 & 0 & 0 & 0 & 0 & 1 & 0 & 0 \\\\ 0 &0 & 0 & 0 & 0 & 0 & 0 & 1 & 0 \\\\ 0 &0 & 0 & 0 & 0 & 0 & 0 & 0 & 1 \\end{bmatrix} = I$$"
   ]
  },
  {
   "cell_type": "markdown",
   "metadata": {
    "collapsed": true
   },
   "source": [
    "# Change of Basis"
   ]
  },
  {
   "cell_type": "markdown",
   "metadata": {},
   "source": [
    "_Question_: **Is there another basis, which is a linear combination of orthogonal basis, that best re-express the data set?**\n",
    "\n",
    "$X$ is a $m\\times n$ (9 columns, 329 rows) matrix. We can do a linear transformation (rotation and stretch) on this dataset and generate a new matrix. Let us call this new matrix $Y$. In other words $P$ matrix transform $X$ to $Y$. Geometrical interpretation of $P$ is a rotation and a stretch of $X$ to obtain $Y$. The rows if the $P$ matrix is the new basis vectors that express the columns of $X$.\n",
    "\n",
    "$$PX=Y$$\n",
    "\n",
    "- $P$ -Linear Transformation\n",
    "- $X$ -Original Data\n",
    "- $Y$ -Transformed Data\n",
    "\n",
    "\n",
    " Vectors in $P$ is the **Principal Components** of $X$. There are infinite numbers of $P$ exits. In other words, we can take the original data set $X$ and rotate and stretch in any number of ways you can imagine. Among these combinations, we can pick one of them and for us to choose one transformation we can ask very fundamental questions,\n",
    " \n",
    " - What features we would like $Y$ to exhibit?\n",
    " - What is the best way to re-express the original data set $X$ ?\n",
    " - What is a good choise of basis of $P$?\n",
    " \n",
    "\n",
    "**The best way to represent the data is to minimize the Singal to Noise ratio (_SNR_) or the ratio of variances $\\sigma^2$**\n",
    "\n",
    "\n",
    "$$SNR=\\frac{\\sigma^{2}_{signal}}{\\sigma^{2}_{noise}}$$\n",
    "\n",
    "Higher SNR ($>>1$) mean less noise and high precision data. Looking at the plot below, we can see this clearly. Less noisy the data, the sigma^2_noise is small, and the variance is much larger in the signal.\n"
   ]
  },
  {
   "cell_type": "code",
   "execution_count": null,
   "metadata": {
    "collapsed": true
   },
   "outputs": [],
   "source": []
  },
  {
   "cell_type": "markdown",
   "metadata": {},
   "source": [
    "## Load Data\n",
    "The data is taken from the Places Rated Almanac, by Richard Boyer and David Savageau, copyrighted and published by Rand McNally. The nine rating criteria used by Places Rated Almanac are:\n",
    "\n",
    "- Climate & Terrain\n",
    "- Housing\n",
    "- Health Care & Environment\n",
    "- Crime\n",
    "- Transportation\n",
    "- Education\n",
    "- The Arts\n",
    "- Recreation\n",
    "- Economics"
   ]
  },
  {
   "cell_type": "code",
   "execution_count": 4,
   "metadata": {
    "collapsed": false
   },
   "outputs": [
    {
     "data": {
      "text/html": [
       "<div>\n",
       "<table border=\"1\" class=\"dataframe\">\n",
       "  <thead>\n",
       "    <tr style=\"text-align: right;\">\n",
       "      <th></th>\n",
       "      <th>$x_1$</th>\n",
       "      <th>$x_2$</th>\n",
       "      <th>$x_3$</th>\n",
       "      <th>$x_4$</th>\n",
       "      <th>$x_5$</th>\n",
       "      <th>$x_6$</th>\n",
       "      <th>$x_7$</th>\n",
       "      <th>$x_8$</th>\n",
       "      <th>$x_9$</th>\n",
       "    </tr>\n",
       "  </thead>\n",
       "  <tbody>\n",
       "    <tr>\n",
       "      <th>0</th>\n",
       "      <td>2.716838</td>\n",
       "      <td>3.792392</td>\n",
       "      <td>2.374748</td>\n",
       "      <td>2.965202</td>\n",
       "      <td>3.605413</td>\n",
       "      <td>3.440437</td>\n",
       "      <td>2.998259</td>\n",
       "      <td>3.147676</td>\n",
       "      <td>3.882695</td>\n",
       "    </tr>\n",
       "    <tr>\n",
       "      <th>1</th>\n",
       "      <td>2.759668</td>\n",
       "      <td>3.910518</td>\n",
       "      <td>3.219060</td>\n",
       "      <td>2.947434</td>\n",
       "      <td>3.688687</td>\n",
       "      <td>3.387034</td>\n",
       "      <td>3.745387</td>\n",
       "      <td>3.420286</td>\n",
       "      <td>3.638489</td>\n",
       "    </tr>\n",
       "    <tr>\n",
       "      <th>2</th>\n",
       "      <td>2.670246</td>\n",
       "      <td>3.865637</td>\n",
       "      <td>2.790988</td>\n",
       "      <td>2.986772</td>\n",
       "      <td>3.403292</td>\n",
       "      <td>3.408240</td>\n",
       "      <td>2.374748</td>\n",
       "      <td>2.933993</td>\n",
       "      <td>3.720159</td>\n",
       "    </tr>\n",
       "    <tr>\n",
       "      <th>3</th>\n",
       "      <td>2.677607</td>\n",
       "      <td>3.898067</td>\n",
       "      <td>3.155640</td>\n",
       "      <td>2.785330</td>\n",
       "      <td>3.837778</td>\n",
       "      <td>3.531351</td>\n",
       "      <td>3.667920</td>\n",
       "      <td>3.208710</td>\n",
       "      <td>3.768194</td>\n",
       "    </tr>\n",
       "    <tr>\n",
       "      <th>4</th>\n",
       "      <td>2.818885</td>\n",
       "      <td>3.923917</td>\n",
       "      <td>3.267875</td>\n",
       "      <td>3.171141</td>\n",
       "      <td>3.816771</td>\n",
       "      <td>3.480869</td>\n",
       "      <td>3.652826</td>\n",
       "      <td>3.416973</td>\n",
       "      <td>3.757927</td>\n",
       "    </tr>\n",
       "  </tbody>\n",
       "</table>\n",
       "</div>"
      ],
      "text/plain": [
       "      $x_1$     $x_2$     $x_3$     $x_4$     $x_5$     $x_6$     $x_7$  \\\n",
       "0  2.716838  3.792392  2.374748  2.965202  3.605413  3.440437  2.998259   \n",
       "1  2.759668  3.910518  3.219060  2.947434  3.688687  3.387034  3.745387   \n",
       "2  2.670246  3.865637  2.790988  2.986772  3.403292  3.408240  2.374748   \n",
       "3  2.677607  3.898067  3.155640  2.785330  3.837778  3.531351  3.667920   \n",
       "4  2.818885  3.923917  3.267875  3.171141  3.816771  3.480869  3.652826   \n",
       "\n",
       "      $x_8$     $x_9$  \n",
       "0  3.147676  3.882695  \n",
       "1  3.420286  3.638489  \n",
       "2  2.933993  3.720159  \n",
       "3  3.208710  3.768194  \n",
       "4  3.416973  3.757927  "
      ]
     },
     "execution_count": 4,
     "metadata": {},
     "output_type": "execute_result"
    }
   ],
   "source": [
    "data = pd.read_csv('places.csv')\n",
    "data = data[[\n",
    "            'location',\n",
    "            'climate_log10',\n",
    "            'housing_log10',\n",
    "            'health_log10',\n",
    "            'crime_log10',\n",
    "            'transportation_log10',\n",
    "            'education_log10',\n",
    "            'arts_log10',\n",
    "            'recreation_log10',\n",
    "            'economy_log10'\n",
    "        ]]\n",
    "\n",
    "data = data.rename(columns={\n",
    "            'climate_log10': '$x_1$',\n",
    "            'housing_log10': '$x_2$',\n",
    "            'health_log10': '$x_3$',\n",
    "            'crime_log10': '$x_4$',\n",
    "            'transportation_log10': '$x_5$',\n",
    "            'education_log10': '$x_6$',\n",
    "            'arts_log10': '$x_7$',\n",
    "            'recreation_log10': '$x_8$',\n",
    "            'economy_log10': '$x_9$'\n",
    "    })\n",
    "\n",
    "del data['location']\n",
    "data.head()"
   ]
  },
  {
   "cell_type": "markdown",
   "metadata": {},
   "source": [
    "# Perform PCA on the dataset "
   ]
  },
  {
   "cell_type": "code",
   "execution_count": 5,
   "metadata": {
    "collapsed": false
   },
   "outputs": [
    {
     "data": {
      "text/plain": [
       "PCA(copy=True, n_components=9, whiten=False)"
      ]
     },
     "execution_count": 5,
     "metadata": {},
     "output_type": "execute_result"
    }
   ],
   "source": [
    "pca = PCA(n_components=9)\n",
    "pca.fit(data)"
   ]
  },
  {
   "cell_type": "markdown",
   "metadata": {},
   "source": [
    "# Data Analysis\n",
    "\n",
    "**Step1**: How many Principal Components we should consider ?\n",
    "\n",
    "Lets take a look at the eigenvalues"
   ]
  },
  {
   "cell_type": "code",
   "execution_count": 6,
   "metadata": {
    "collapsed": false
   },
   "outputs": [
    {
     "data": {
      "text/html": [
       "<div>\n",
       "<table border=\"1\" class=\"dataframe\">\n",
       "  <thead>\n",
       "    <tr style=\"text-align: right;\">\n",
       "      <th></th>\n",
       "      <th>Component</th>\n",
       "      <th>Eigenvalue</th>\n",
       "      <th>Proportion (%)</th>\n",
       "      <th>Cumulative (%)</th>\n",
       "    </tr>\n",
       "  </thead>\n",
       "  <tbody>\n",
       "    <tr>\n",
       "      <th>0</th>\n",
       "      <td>PC1</td>\n",
       "      <td>0.376315</td>\n",
       "      <td>72.27</td>\n",
       "      <td>72.27</td>\n",
       "    </tr>\n",
       "    <tr>\n",
       "      <th>1</th>\n",
       "      <td>PC2</td>\n",
       "      <td>0.050897</td>\n",
       "      <td>9.77</td>\n",
       "      <td>82.04</td>\n",
       "    </tr>\n",
       "    <tr>\n",
       "      <th>2</th>\n",
       "      <td>PC3</td>\n",
       "      <td>0.027835</td>\n",
       "      <td>5.35</td>\n",
       "      <td>87.39</td>\n",
       "    </tr>\n",
       "    <tr>\n",
       "      <th>3</th>\n",
       "      <td>PC4</td>\n",
       "      <td>0.022897</td>\n",
       "      <td>4.40</td>\n",
       "      <td>91.79</td>\n",
       "    </tr>\n",
       "    <tr>\n",
       "      <th>4</th>\n",
       "      <td>PC5</td>\n",
       "      <td>0.016720</td>\n",
       "      <td>3.21</td>\n",
       "      <td>95.00</td>\n",
       "    </tr>\n",
       "    <tr>\n",
       "      <th>5</th>\n",
       "      <td>PC6</td>\n",
       "      <td>0.011916</td>\n",
       "      <td>2.29</td>\n",
       "      <td>97.29</td>\n",
       "    </tr>\n",
       "    <tr>\n",
       "      <th>6</th>\n",
       "      <td>PC7</td>\n",
       "      <td>0.008431</td>\n",
       "      <td>1.62</td>\n",
       "      <td>98.91</td>\n",
       "    </tr>\n",
       "    <tr>\n",
       "      <th>7</th>\n",
       "      <td>PC8</td>\n",
       "      <td>0.003922</td>\n",
       "      <td>0.75</td>\n",
       "      <td>99.66</td>\n",
       "    </tr>\n",
       "    <tr>\n",
       "      <th>8</th>\n",
       "      <td>PC9</td>\n",
       "      <td>0.001792</td>\n",
       "      <td>0.34</td>\n",
       "      <td>100.00</td>\n",
       "    </tr>\n",
       "  </tbody>\n",
       "</table>\n",
       "</div>"
      ],
      "text/plain": [
       "  Component  Eigenvalue  Proportion (%)  Cumulative (%)\n",
       "0       PC1    0.376315           72.27           72.27\n",
       "1       PC2    0.050897            9.77           82.04\n",
       "2       PC3    0.027835            5.35           87.39\n",
       "3       PC4    0.022897            4.40           91.79\n",
       "4       PC5    0.016720            3.21           95.00\n",
       "5       PC6    0.011916            2.29           97.29\n",
       "6       PC7    0.008431            1.62           98.91\n",
       "7       PC8    0.003922            0.75           99.66\n",
       "8       PC9    0.001792            0.34          100.00"
      ]
     },
     "metadata": {},
     "output_type": "display_data"
    }
   ],
   "source": [
    "eigenDf = pd.DataFrame({\n",
    "        'Component': [\"PC%s\" %(i) for i in range(1,10)],\n",
    "        'Eigenvalue': pca.explained_variance_,\n",
    "        'Proportion (%)': pca.explained_variance_ratio_.round(4) * 100\n",
    "    })\n",
    "\n",
    "eigenDf['Cumulative (%)'] = 0\n",
    "cu = 0.0\n",
    "for i in eigenDf.index:\n",
    "    cu += eigenDf.iloc[i]['Proportion (%)']\n",
    "    eigenDf.loc[i, 'Cumulative (%)'] = cu\n",
    "display(eigenDf)"
   ]
  },
  {
   "cell_type": "markdown",
   "metadata": {},
   "source": [
    "**Eigenvalues** (variances) along each principal component show how the data variation on each component. First Principal Component show the largest change and the second component shows the second largest and so on.\n",
    "\n",
    "**Proportion** of eigrnvalues (variation) calcuated as \n",
    "\n",
    "$$proportion = \\frac{Eigenvalue}{\\sum{(Eigenvalues)}}$$\n",
    "\n",
    "According to the above table, the first principal component explain **72.27%** of the variance of the dataset, and second principal component describe **9.77%** of the variance of the data...etc\n",
    "\n",
    "**Cumulative** values are calculated by adding the proportion values. The first two principal components show 82% of the variance of the data (PC1 Proportion 72.27% + PC1 Proportion 9.77%). First 3 PCs show 87.39% variance of the dataset "
   ]
  },
  {
   "cell_type": "markdown",
   "metadata": {},
   "source": [
    "**step2**: Calculate the Principal Component Scores.\n",
    "\n",
    "First Principal Component can be calculated using First Principal Component coefficients multiply by the first data row (vector)\n",
    "\n",
    "\n",
    "$$ y_1 =    (PC1[1] \\times x_1) + (PC1[2] \\times x_2) + (PC1[3] \\times x_3) + (PC1[4] \\times x_4) + (PC1[5] \\times x_5) + (PC1[6] \\times x_6) + (PC1[7] \\times x_7) + (PC1[8] \\times x_8) + (PC1[9] \\times x_9)$$\n",
    "\n",
    "\n",
    "\n",
    "$$ y_1 =  (0.03507288 \\times x_1) + (0.09335159 \\times x_2) + (0.40776448 \\times x_3) + (0.10044536 \\times x_4) + (0.15009714 \\times x_5) + (0.03215319 \\times x_6) + (0.87434057 \\times x_7) + (0.15899622 \\times x_8) + (0.01949418 \\times x_9)$$\n",
    "\n",
    "\n",
    "Instead of using the raw data, we can use the difference between the variables and their sample means. This is known as the translation of the random variable. This translation does not affect interpretations because the variance of the original variables are the same as those of the translated variables."
   ]
  },
  {
   "cell_type": "markdown",
   "metadata": {
    "collapsed": true
   },
   "source": [
    "### Interpretation of the Principal Components\n",
    "\n",
    "Compute the correlations between the original data and principal components"
   ]
  },
  {
   "cell_type": "code",
   "execution_count": 8,
   "metadata": {
    "collapsed": false
   },
   "outputs": [],
   "source": [
    "pc = zip(pca.transform(data), data)"
   ]
  },
  {
   "cell_type": "code",
   "execution_count": 50,
   "metadata": {
    "collapsed": false
   },
   "outputs": [
    {
     "data": {
      "text/html": [
       "<div>\n",
       "<table border=\"1\" class=\"dataframe\">\n",
       "  <thead>\n",
       "    <tr style=\"text-align: right;\">\n",
       "      <th></th>\n",
       "      <th>0</th>\n",
       "      <th>1</th>\n",
       "      <th>2</th>\n",
       "      <th>3</th>\n",
       "      <th>4</th>\n",
       "      <th>5</th>\n",
       "      <th>6</th>\n",
       "      <th>7</th>\n",
       "      <th>8</th>\n",
       "    </tr>\n",
       "  </thead>\n",
       "  <tbody>\n",
       "    <tr>\n",
       "      <th>$x_1$</th>\n",
       "      <td>-0.436677</td>\n",
       "      <td>0.420163</td>\n",
       "      <td>0.118121</td>\n",
       "      <td>0.089959</td>\n",
       "      <td>0.080968</td>\n",
       "      <td>0.005028</td>\n",
       "      <td>0.077777</td>\n",
       "      <td>-0.142870</td>\n",
       "      <td>-0.002988</td>\n",
       "    </tr>\n",
       "    <tr>\n",
       "      <th>$x_2$</th>\n",
       "      <td>0.620958</td>\n",
       "      <td>0.005346</td>\n",
       "      <td>-0.001808</td>\n",
       "      <td>-0.100745</td>\n",
       "      <td>-0.021650</td>\n",
       "      <td>0.027288</td>\n",
       "      <td>-0.134777</td>\n",
       "      <td>0.027679</td>\n",
       "      <td>-0.067781</td>\n",
       "    </tr>\n",
       "    <tr>\n",
       "      <th>$x_3$</th>\n",
       "      <td>-0.873256</td>\n",
       "      <td>-0.212104</td>\n",
       "      <td>-0.049693</td>\n",
       "      <td>0.171612</td>\n",
       "      <td>-0.026654</td>\n",
       "      <td>-0.044418</td>\n",
       "      <td>0.044284</td>\n",
       "      <td>0.065949</td>\n",
       "      <td>-0.009643</td>\n",
       "    </tr>\n",
       "    <tr>\n",
       "      <th>$x_4$</th>\n",
       "      <td>0.502948</td>\n",
       "      <td>-0.063621</td>\n",
       "      <td>0.170495</td>\n",
       "      <td>-0.112303</td>\n",
       "      <td>0.196313</td>\n",
       "      <td>0.045515</td>\n",
       "      <td>0.030802</td>\n",
       "      <td>-0.087271</td>\n",
       "      <td>0.036426</td>\n",
       "    </tr>\n",
       "    <tr>\n",
       "      <th>$x_5$</th>\n",
       "      <td>0.609775</td>\n",
       "      <td>-0.007233</td>\n",
       "      <td>-0.233127</td>\n",
       "      <td>0.050234</td>\n",
       "      <td>0.071192</td>\n",
       "      <td>0.059613</td>\n",
       "      <td>-0.047273</td>\n",
       "      <td>-0.046733</td>\n",
       "      <td>0.000952</td>\n",
       "    </tr>\n",
       "    <tr>\n",
       "      <th>$x_6$</th>\n",
       "      <td>-0.745633</td>\n",
       "      <td>-0.188183</td>\n",
       "      <td>0.040752</td>\n",
       "      <td>0.072765</td>\n",
       "      <td>-0.063687</td>\n",
       "      <td>-0.027134</td>\n",
       "      <td>-0.040332</td>\n",
       "      <td>-0.054720</td>\n",
       "      <td>0.035484</td>\n",
       "    </tr>\n",
       "    <tr>\n",
       "      <th>$x_7$</th>\n",
       "      <td>0.005097</td>\n",
       "      <td>0.063496</td>\n",
       "      <td>0.378155</td>\n",
       "      <td>-0.025016</td>\n",
       "      <td>-0.095842</td>\n",
       "      <td>0.058177</td>\n",
       "      <td>0.042709</td>\n",
       "      <td>-0.015394</td>\n",
       "      <td>0.056631</td>\n",
       "    </tr>\n",
       "    <tr>\n",
       "      <th>$x_8$</th>\n",
       "      <td>-0.039376</td>\n",
       "      <td>-0.092385</td>\n",
       "      <td>0.095279</td>\n",
       "      <td>0.004404</td>\n",
       "      <td>0.123509</td>\n",
       "      <td>0.051707</td>\n",
       "      <td>-0.006696</td>\n",
       "      <td>-0.100406</td>\n",
       "      <td>-0.008554</td>\n",
       "    </tr>\n",
       "    <tr>\n",
       "      <th>$x_9$</th>\n",
       "      <td>-0.893575</td>\n",
       "      <td>-0.097862</td>\n",
       "      <td>0.107068</td>\n",
       "      <td>-0.201101</td>\n",
       "      <td>0.124011</td>\n",
       "      <td>0.170125</td>\n",
       "      <td>-0.060089</td>\n",
       "      <td>-0.042225</td>\n",
       "      <td>0.004749</td>\n",
       "    </tr>\n",
       "  </tbody>\n",
       "</table>\n",
       "</div>"
      ],
      "text/plain": [
       "              0         1         2         3         4         5         6  \\\n",
       "$x_1$ -0.436677  0.420163  0.118121  0.089959  0.080968  0.005028  0.077777   \n",
       "$x_2$  0.620958  0.005346 -0.001808 -0.100745 -0.021650  0.027288 -0.134777   \n",
       "$x_3$ -0.873256 -0.212104 -0.049693  0.171612 -0.026654 -0.044418  0.044284   \n",
       "$x_4$  0.502948 -0.063621  0.170495 -0.112303  0.196313  0.045515  0.030802   \n",
       "$x_5$  0.609775 -0.007233 -0.233127  0.050234  0.071192  0.059613 -0.047273   \n",
       "$x_6$ -0.745633 -0.188183  0.040752  0.072765 -0.063687 -0.027134 -0.040332   \n",
       "$x_7$  0.005097  0.063496  0.378155 -0.025016 -0.095842  0.058177  0.042709   \n",
       "$x_8$ -0.039376 -0.092385  0.095279  0.004404  0.123509  0.051707 -0.006696   \n",
       "$x_9$ -0.893575 -0.097862  0.107068 -0.201101  0.124011  0.170125 -0.060089   \n",
       "\n",
       "              7         8  \n",
       "$x_1$ -0.142870 -0.002988  \n",
       "$x_2$  0.027679 -0.067781  \n",
       "$x_3$  0.065949 -0.009643  \n",
       "$x_4$ -0.087271  0.036426  \n",
       "$x_5$ -0.046733  0.000952  \n",
       "$x_6$ -0.054720  0.035484  \n",
       "$x_7$ -0.015394  0.056631  \n",
       "$x_8$ -0.100406 -0.008554  \n",
       "$x_9$ -0.042225  0.004749  "
      ]
     },
     "metadata": {},
     "output_type": "display_data"
    }
   ],
   "source": [
    "df = pd.DataFrame(columns=data.columns)\n",
    "\n",
    "for d in pc:\n",
    "    df[d[1]] = d[0]\n",
    "    \n",
    "display(df.T)\n",
    "\n",
    "\n"
   ]
  },
  {
   "cell_type": "code",
   "execution_count": null,
   "metadata": {
    "collapsed": true
   },
   "outputs": [],
   "source": []
  }
 ],
 "metadata": {
  "kernelspec": {
   "display_name": "Python 2",
   "language": "python",
   "name": "python2"
  },
  "language_info": {
   "codemirror_mode": {
    "name": "ipython",
    "version": 2
   },
   "file_extension": ".py",
   "mimetype": "text/x-python",
   "name": "python",
   "nbconvert_exporter": "python",
   "pygments_lexer": "ipython2",
   "version": "2.7.13"
  }
 },
 "nbformat": 4,
 "nbformat_minor": 0
}
