{
 "cells": [
  {
   "cell_type": "code",
   "execution_count": 1,
   "metadata": {
    "collapsed": true
   },
   "outputs": [],
   "source": [
    "import pandas as pd \n",
    "import numpy as np"
   ]
  },
  {
   "cell_type": "code",
   "execution_count": 2,
   "metadata": {
    "collapsed": false
   },
   "outputs": [],
   "source": [
    "data = pd.read_excel('places.xlsx', 'places')"
   ]
  },
  {
   "cell_type": "code",
   "execution_count": 3,
   "metadata": {
    "collapsed": false
   },
   "outputs": [],
   "source": [
    "data = data.rename(columns = {'Climate': 'location',\n",
    "'HousingCost': 'climate',\n",
    "'HlthCare': 'housing',\n",
    "'Crime': 'health',\n",
    "'Transp': 'crime',\n",
    "'Educ': 'transportation',\n",
    "'Arts': 'education',\n",
    "'Recreat': 'arts',\n",
    "'Econ': 'recreation',\n",
    "'CaseNum': 'economy'})\n",
    "\n",
    "del data['Long']\n",
    "del data['Lat']\n",
    "del data['Pop']\n",
    "del data['StNum']\n",
    "del data['Unnamed: 14']"
   ]
  },
  {
   "cell_type": "code",
   "execution_count": 4,
   "metadata": {
    "collapsed": false
   },
   "outputs": [],
   "source": [
    "data['location'] = data['location'].apply(lambda x: x.strip())"
   ]
  },
  {
   "cell_type": "code",
   "execution_count": 5,
   "metadata": {
    "collapsed": false
   },
   "outputs": [
    {
     "data": {
      "text/html": [
       "<div>\n",
       "<table border=\"1\" class=\"dataframe\">\n",
       "  <thead>\n",
       "    <tr style=\"text-align: right;\">\n",
       "      <th></th>\n",
       "      <th>location</th>\n",
       "      <th>climate</th>\n",
       "      <th>housing</th>\n",
       "      <th>health</th>\n",
       "      <th>crime</th>\n",
       "      <th>transportation</th>\n",
       "      <th>education</th>\n",
       "      <th>arts</th>\n",
       "      <th>recreation</th>\n",
       "      <th>economy</th>\n",
       "    </tr>\n",
       "  </thead>\n",
       "  <tbody>\n",
       "    <tr>\n",
       "      <th>0</th>\n",
       "      <td>Abilene,TX</td>\n",
       "      <td>521</td>\n",
       "      <td>6200</td>\n",
       "      <td>237</td>\n",
       "      <td>923</td>\n",
       "      <td>4031</td>\n",
       "      <td>2757</td>\n",
       "      <td>996</td>\n",
       "      <td>1405</td>\n",
       "      <td>7633</td>\n",
       "    </tr>\n",
       "    <tr>\n",
       "      <th>1</th>\n",
       "      <td>Akron,OH</td>\n",
       "      <td>575</td>\n",
       "      <td>8138</td>\n",
       "      <td>1656</td>\n",
       "      <td>886</td>\n",
       "      <td>4883</td>\n",
       "      <td>2438</td>\n",
       "      <td>5564</td>\n",
       "      <td>2632</td>\n",
       "      <td>4350</td>\n",
       "    </tr>\n",
       "    <tr>\n",
       "      <th>2</th>\n",
       "      <td>Albany,GA</td>\n",
       "      <td>468</td>\n",
       "      <td>7339</td>\n",
       "      <td>618</td>\n",
       "      <td>970</td>\n",
       "      <td>2531</td>\n",
       "      <td>2560</td>\n",
       "      <td>237</td>\n",
       "      <td>859</td>\n",
       "      <td>5250</td>\n",
       "    </tr>\n",
       "    <tr>\n",
       "      <th>3</th>\n",
       "      <td>Albany-Schenectady-Troy,NY</td>\n",
       "      <td>476</td>\n",
       "      <td>7908</td>\n",
       "      <td>1431</td>\n",
       "      <td>610</td>\n",
       "      <td>6883</td>\n",
       "      <td>3399</td>\n",
       "      <td>4655</td>\n",
       "      <td>1617</td>\n",
       "      <td>5864</td>\n",
       "    </tr>\n",
       "    <tr>\n",
       "      <th>4</th>\n",
       "      <td>Albuquerque,NM</td>\n",
       "      <td>659</td>\n",
       "      <td>8393</td>\n",
       "      <td>1853</td>\n",
       "      <td>1483</td>\n",
       "      <td>6558</td>\n",
       "      <td>3026</td>\n",
       "      <td>4496</td>\n",
       "      <td>2612</td>\n",
       "      <td>5727</td>\n",
       "    </tr>\n",
       "  </tbody>\n",
       "</table>\n",
       "</div>"
      ],
      "text/plain": [
       "                     location  climate  housing  health  crime  \\\n",
       "0                  Abilene,TX      521     6200     237    923   \n",
       "1                    Akron,OH      575     8138    1656    886   \n",
       "2                   Albany,GA      468     7339     618    970   \n",
       "3  Albany-Schenectady-Troy,NY      476     7908    1431    610   \n",
       "4              Albuquerque,NM      659     8393    1853   1483   \n",
       "\n",
       "   transportation  education  arts  recreation  economy  \n",
       "0            4031       2757   996        1405     7633  \n",
       "1            4883       2438  5564        2632     4350  \n",
       "2            2531       2560   237         859     5250  \n",
       "3            6883       3399  4655        1617     5864  \n",
       "4            6558       3026  4496        2612     5727  "
      ]
     },
     "execution_count": 5,
     "metadata": {},
     "output_type": "execute_result"
    }
   ],
   "source": [
    "data.head()"
   ]
  },
  {
   "cell_type": "code",
   "execution_count": 6,
   "metadata": {
    "collapsed": true
   },
   "outputs": [],
   "source": [
    "data['climate_log10'] = np.log10(data['climate'])\n",
    "data['housing_log10'] = np.log10(data['housing'])\n",
    "data['health_log10'] = np.log10(data['health'])\n",
    "data['crime_log10'] = np.log10(data['crime'])\n",
    "data['transportation_log10'] = np.log10(data['transportation'])\n",
    "data['education_log10'] = np.log10(data['education'])\n",
    "data['arts_log10'] = np.log10(data['arts'])\n",
    "data['recreation_log10'] = np.log10(data['recreation'])\n",
    "data['economy_log10'] = np.log10(data['economy'])"
   ]
  },
  {
   "cell_type": "code",
   "execution_count": 7,
   "metadata": {
    "collapsed": false
   },
   "outputs": [],
   "source": [
    "data.to_csv('places.csv', index=False)"
   ]
  },
  {
   "cell_type": "code",
   "execution_count": null,
   "metadata": {
    "collapsed": true
   },
   "outputs": [],
   "source": []
  }
 ],
 "metadata": {
  "kernelspec": {
   "display_name": "Python 2",
   "language": "python",
   "name": "python2"
  },
  "language_info": {
   "codemirror_mode": {
    "name": "ipython",
    "version": 2
   },
   "file_extension": ".py",
   "mimetype": "text/x-python",
   "name": "python",
   "nbconvert_exporter": "python",
   "pygments_lexer": "ipython2",
   "version": "2.7.13"
  }
 },
 "nbformat": 4,
 "nbformat_minor": 0
}
