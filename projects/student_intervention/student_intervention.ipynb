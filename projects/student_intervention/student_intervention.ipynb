{
 "cells": [
  {
   "cell_type": "markdown",
   "metadata": {},
   "source": [
    "# Machine Learning Engineer Nanodegree\n",
    "## Supervised Learning\n",
    "## Project 2: Building a Student Intervention System"
   ]
  },
  {
   "cell_type": "markdown",
   "metadata": {},
   "source": [
    "Welcome to the second project of the Machine Learning Engineer Nanodegree! In this notebook, some template code has already been provided for you, and it will be your job to implement the additional functionality necessary to successfully complete this project. Sections that begin with **'Implementation'** in the header indicate that the following block of code will require additional functionality which you must provide. Instructions will be provided for each section and the specifics of the implementation are marked in the code block with a `'TODO'` statement. Please be sure to read the instructions carefully!\n",
    "\n",
    "In addition to implementing code, there will be questions that you must answer which relate to the project and your implementation. Each section where you will answer a question is preceded by a **'Question X'** header. Carefully read each question and provide thorough answers in the following text boxes that begin with **'Answer:'**. Your project submission will be evaluated based on your answers to each of the questions and the implementation you provide.  \n",
    "\n",
    ">**Note:** Code and Markdown cells can be executed using the **Shift + Enter** keyboard shortcut. In addition, Markdown cells can be edited by typically double-clicking the cell to enter edit mode."
   ]
  },
  {
   "cell_type": "markdown",
   "metadata": {},
   "source": [
    "### Question 1 - Classification vs. Regression\n",
    "*Your goal for this project is to identify students who might need early intervention before they fail to graduate. Which type of supervised learning problem is this, classification or regression? Why?*"
   ]
  },
  {
   "cell_type": "markdown",
   "metadata": {},
   "source": [
    "**Answer: **\n",
    "        Regression is used to predict continuous variables, and classification is used to predict discrete values. In this particular problem, we have data points where we need to predict if the given data point belongs to a particular class: need intervention, no need to intervention. Therefore, this is a classification problem."
   ]
  },
  {
   "cell_type": "markdown",
   "metadata": {},
   "source": [
    "## Exploring the Data\n",
    "Run the code cell below to load necessary Python libraries and load the student data. Note that the last column from this dataset, `'passed'`, will be our target label (whether the student graduated or didn't graduate). All other columns are features about each student."
   ]
  },
  {
   "cell_type": "code",
   "execution_count": 123,
   "metadata": {
    "collapsed": false
   },
   "outputs": [
    {
     "name": "stdout",
     "output_type": "stream",
     "text": [
      "Student data read successfully!\n"
     ]
    }
   ],
   "source": [
    "# Import libraries\n",
    "import numpy as np\n",
    "import pandas as pd\n",
    "from time import time\n",
    "from sklearn.metrics import f1_score\n",
    "\n",
    "# Read student data\n",
    "student_data = pd.read_csv(\"student-data.csv\")\n",
    "print \"Student data read successfully!\""
   ]
  },
  {
   "cell_type": "code",
   "execution_count": 124,
   "metadata": {
    "collapsed": true
   },
   "outputs": [],
   "source": [
    "%qtconsole"
   ]
  },
  {
   "cell_type": "markdown",
   "metadata": {},
   "source": [
    "### Implementation: Data Exploration\n",
    "Let's begin by investigating the dataset to determine how many students we have information on, and learn about the graduation rate among these students. In the code cell below, you will need to compute the following:\n",
    "- The total number of students, `n_students`.\n",
    "- The total number of features for each student, `n_features`.\n",
    "- The number of those students who passed, `n_passed`.\n",
    "- The number of those students who failed, `n_failed`.\n",
    "- The graduation rate of the class, `grad_rate`, in percent (%).\n"
   ]
  },
  {
   "cell_type": "code",
   "execution_count": 125,
   "metadata": {
    "collapsed": false
   },
   "outputs": [
    {
     "name": "stdout",
     "output_type": "stream",
     "text": [
      "Total number of students: 395\n",
      "Number of features: 31\n",
      "Number of students who passed: 265\n",
      "Number of students who failed: 130\n",
      "Graduation rate of the class: 67.09%\n"
     ]
    }
   ],
   "source": [
    "# TODO: Calculate number of students\n",
    "n_students = len(student_data)\n",
    "\n",
    "# TODO: Calculate number of features\n",
    "n_features = len(student_data.columns)\n",
    "\n",
    "# TODO: Calculate passing students\n",
    "n_passed = len(student_data[student_data.passed == 'yes'])\n",
    "\n",
    "# TODO: Calculate failing students\n",
    "n_failed = len(student_data[student_data.passed == 'no'])\n",
    "\n",
    "# TODO: Calculate graduation rate\n",
    "grad_rate = round(float(len(student_data[student_data.passed == 'yes']))/float(len(student_data)) * 100, 2)\n",
    "\n",
    "# Print the results\n",
    "print \"Total number of students: {}\".format(n_students)\n",
    "print \"Number of features: {}\".format(n_features)\n",
    "print \"Number of students who passed: {}\".format(n_passed)\n",
    "print \"Number of students who failed: {}\".format(n_failed)\n",
    "print \"Graduation rate of the class: {:.2f}%\".format(grad_rate)"
   ]
  },
  {
   "cell_type": "markdown",
   "metadata": {},
   "source": [
    "## Preparing the Data\n",
    "In this section, we will prepare the data for modeling, training and testing.\n",
    "\n",
    "### Identify feature and target columns\n",
    "It is often the case that the data you obtain contains non-numeric features. This can be a problem, as most machine learning algorithms expect numeric data to perform computations with.\n",
    "\n",
    "Run the code cell below to separate the student data into feature and target columns to see if any features are non-numeric."
   ]
  },
  {
   "cell_type": "code",
   "execution_count": 126,
   "metadata": {
    "collapsed": false
   },
   "outputs": [
    {
     "name": "stdout",
     "output_type": "stream",
     "text": [
      "Feature columns:\n",
      "['school', 'sex', 'age', 'address', 'famsize', 'Pstatus', 'Medu', 'Fedu', 'Mjob', 'Fjob', 'reason', 'guardian', 'traveltime', 'studytime', 'failures', 'schoolsup', 'famsup', 'paid', 'activities', 'nursery', 'higher', 'internet', 'romantic', 'famrel', 'freetime', 'goout', 'Dalc', 'Walc', 'health', 'absences']\n",
      "\n",
      "Target column: passed\n",
      "\n",
      "Feature values:\n",
      "  school sex  age address famsize Pstatus  Medu  Fedu     Mjob      Fjob  \\\n",
      "0     GP   F   18       U     GT3       A     4     4  at_home   teacher   \n",
      "1     GP   F   17       U     GT3       T     1     1  at_home     other   \n",
      "2     GP   F   15       U     LE3       T     1     1  at_home     other   \n",
      "3     GP   F   15       U     GT3       T     4     2   health  services   \n",
      "4     GP   F   16       U     GT3       T     3     3    other     other   \n",
      "\n",
      "    ...    higher internet  romantic  famrel  freetime goout Dalc Walc health  \\\n",
      "0   ...       yes       no        no       4         3     4    1    1      3   \n",
      "1   ...       yes      yes        no       5         3     3    1    1      3   \n",
      "2   ...       yes      yes        no       4         3     2    2    3      3   \n",
      "3   ...       yes      yes       yes       3         2     2    1    1      5   \n",
      "4   ...       yes       no        no       4         3     2    1    2      5   \n",
      "\n",
      "  absences  \n",
      "0        6  \n",
      "1        4  \n",
      "2       10  \n",
      "3        2  \n",
      "4        4  \n",
      "\n",
      "[5 rows x 30 columns]\n"
     ]
    }
   ],
   "source": [
    "# Extract feature columns\n",
    "feature_cols = list(student_data.columns[:-1])\n",
    "\n",
    "# Extract target column 'passed'\n",
    "target_col = student_data.columns[-1] \n",
    "\n",
    "# Show the list of columns\n",
    "print \"Feature columns:\\n{}\".format(feature_cols)\n",
    "print \"\\nTarget column: {}\".format(target_col)\n",
    "\n",
    "# Separate the data into feature data and target data (X_all and y_all, respectively)\n",
    "X_all = student_data[feature_cols]\n",
    "y_all = student_data[target_col]\n",
    "\n",
    "# Show the feature information by printing the first five rows\n",
    "print \"\\nFeature values:\"\n",
    "print X_all.head()"
   ]
  },
  {
   "cell_type": "markdown",
   "metadata": {},
   "source": [
    "### Preprocess Feature Columns\n",
    "\n",
    "As you can see, there are several non-numeric columns that need to be converted! Many of them are simply `yes`/`no`, e.g. `internet`. These can be reasonably converted into `1`/`0` (binary) values.\n",
    "\n",
    "Other columns, like `Mjob` and `Fjob`, have more than two values, and are known as _categorical variables_. The recommended way to handle such a column is to create as many columns as possible values (e.g. `Fjob_teacher`, `Fjob_other`, `Fjob_services`, etc.), and assign a `1` to one of them and `0` to all others.\n",
    "\n",
    "These generated columns are sometimes called _dummy variables_, and we will use the [`pandas.get_dummies()`](http://pandas.pydata.org/pandas-docs/stable/generated/pandas.get_dummies.html?highlight=get_dummies#pandas.get_dummies) function to perform this transformation. Run the code cell below to perform the preprocessing routine discussed in this section."
   ]
  },
  {
   "cell_type": "code",
   "execution_count": 127,
   "metadata": {
    "collapsed": false
   },
   "outputs": [
    {
     "name": "stdout",
     "output_type": "stream",
     "text": [
      "Processed feature columns (48 total features):\n",
      "['school_GP', 'school_MS', 'sex_F', 'sex_M', 'age', 'address_R', 'address_U', 'famsize_GT3', 'famsize_LE3', 'Pstatus_A', 'Pstatus_T', 'Medu', 'Fedu', 'Mjob_at_home', 'Mjob_health', 'Mjob_other', 'Mjob_services', 'Mjob_teacher', 'Fjob_at_home', 'Fjob_health', 'Fjob_other', 'Fjob_services', 'Fjob_teacher', 'reason_course', 'reason_home', 'reason_other', 'reason_reputation', 'guardian_father', 'guardian_mother', 'guardian_other', 'traveltime', 'studytime', 'failures', 'schoolsup', 'famsup', 'paid', 'activities', 'nursery', 'higher', 'internet', 'romantic', 'famrel', 'freetime', 'goout', 'Dalc', 'Walc', 'health', 'absences']\n"
     ]
    }
   ],
   "source": [
    "def preprocess_features(X):\n",
    "    ''' Preprocesses the student data and converts non-numeric binary variables into\n",
    "        binary (0/1) variables. Converts categorical variables into dummy variables. '''\n",
    "    \n",
    "    # Initialize new output DataFrame\n",
    "    output = pd.DataFrame(index = X.index)\n",
    "  \n",
    "    # Investigate each feature column for the data\n",
    "    for col, col_data in X.iteritems():\n",
    "        \n",
    "        # If data type is non-numeric, replace all yes/no values with 1/0\n",
    "        if col_data.dtype == object:\n",
    "            col_data = col_data.replace(['yes', 'no'], [1, 0])\n",
    "\n",
    "        # If data type is categorical, convert to dummy variables\n",
    "        if col_data.dtype == object:\n",
    "            # Example: 'school' => 'school_GP' and 'school_MS'\n",
    "            col_data = pd.get_dummies(col_data, prefix = col)  \n",
    "        \n",
    "        # Collect the revised columns\n",
    "        output = output.join(col_data)\n",
    "    \n",
    "    return output\n",
    "\n",
    "X_all = preprocess_features(X_all)\n",
    "print \"Processed feature columns ({} total features):\\n{}\".format(len(X_all.columns), list(X_all.columns))"
   ]
  },
  {
   "cell_type": "markdown",
   "metadata": {},
   "source": [
    "### Implementation: Training and Testing Data Split\n",
    "So far, we have converted all _categorical_ features into numeric values. For the next step, we split the data (both features and corresponding labels) into training and test sets. In the following code cell below, you will need to implement the following:\n",
    "- Randomly shuffle and split the data (`X_all`, `y_all`) into training and testing subsets.\n",
    "  - Use 300 training points (approximately 75%) and 95 testing points (approximately 25%).\n",
    "  - Set a `random_state` for the function(s) you use, if provided.\n",
    "  - Store the results in `X_train`, `X_test`, `y_train`, and `y_test`."
   ]
  },
  {
   "cell_type": "code",
   "execution_count": 128,
   "metadata": {
    "collapsed": false
   },
   "outputs": [
    {
     "name": "stdout",
     "output_type": "stream",
     "text": [
      "Training set has 300 samples.\n",
      "Testing set has 95 samples.\n"
     ]
    }
   ],
   "source": [
    "# TODO: Import any additional functionality you may need here\n",
    "from sklearn.cross_validation import train_test_split\n",
    "\n",
    "# TODO: Set the number of training points\n",
    "num_train = 300\n",
    "\n",
    "# Set the number of testing points\n",
    "num_test = X_all.shape[0] - num_train\n",
    "\n",
    "# TODO: Shuffle and split the dataset into the number of training and testing points above\n",
    "X_test, X_train, y_test, y_train = train_test_split(X_all, y_all, test_size=num_train, train_size=num_test)\n",
    "\n",
    "# Show the results of the split\n",
    "print \"Training set has {} samples.\".format(X_train.shape[0])\n",
    "print \"Testing set has {} samples.\".format(X_test.shape[0])"
   ]
  },
  {
   "cell_type": "markdown",
   "metadata": {},
   "source": [
    "## Training and Evaluating Models\n",
    "In this section, you will choose 3 supervised learning models that are appropriate for this problem and available in `scikit-learn`. You will first discuss the reasoning behind choosing these three models by considering what you know about the data and each model's strengths and weaknesses. You will then fit the model to varying sizes of training data (100 data points, 200 data points, and 300 data points) and measure the F<sub>1</sub> score. You will need to produce three tables (one for each model) that shows the training set size, training time, prediction time, F<sub>1</sub> score on the training set, and F<sub>1</sub> score on the testing set."
   ]
  },
  {
   "cell_type": "markdown",
   "metadata": {},
   "source": [
    "### Question 2 - Model Application\n",
    "*List three supervised learning models that are appropriate for this problem. What are the general applications of each model? What are their strengths and weaknesses? Given what you know about the data, why did you choose these models to be applied?*"
   ]
  },
  {
   "cell_type": "markdown",
   "metadata": {},
   "source": [
    "**Answer: **\n",
    "\n",
    "** Neural network models (Multi-layer Perceptron)**$^{[1]}$: \n",
    "\n",
    "\n",
    "General Ideal of Multi-Layer Perceptrons (MPL): \n",
    "\n",
    "Multi-Layer Perceptrons (MPLs) belong to supervised feed-forward networks. MPL arrange processing elements (PE) in a multilayered structure where the input of each PE ($x_{i}$) from the previous layer is multiply by connection weight ($w_{i}$). PE summed weighted data ($\\sum{x_{i}w_{i}}$), and add or subtract a biased or threshold value ($z=\\sum{x_{i}w_{i}} + \\theta$). Then these summed values pass through a non-linear transfer function (we use a sigmoid) to produce the output of the PE ($a=f(z)$). The output from one PE is input to another PE in the next layer. The global error ($E$) between the output predicted by the network and the desired output is calculated using an error function. The error function for given node ($i$) is calculated using,\n",
    "\n",
    "$E = \\frac{1}{2}\\sum({\\hat{y}_{i} - y_{i}})^{2}$\n",
    "\n",
    "$\\hat{y}$ - Predicted value by the network, $y_{i}$ - Expected value (from training data)\n",
    "\n",
    "The objective of the learning process is to minimize the error between the predicted and actual outputs. The error function usually achieves minimization process on variables in the network, one of the common variable in the network is its connection weights. This minimization process used the back-propagation algorithm to adjust the weights. Gradient descent technique is being used to calculate the desired weights in the trained network. The global error is minimized by modifying the weights using the following equation:\n",
    "\n",
    "$\\Delta{w_{ij}} = -\\eta \\frac{\\partial{E}}{\\partial{w_{ij}}}$\n",
    "\n",
    "\n",
    "$\\Delta{w_{ij}}$ - weight increment from node $i\\rightarrow j$, $\\eta$ - learning rate\n",
    "\n",
    "\n",
    "the weights are then updated by adding the delta weight, to the corresponding previous weights as follows,\n",
    "\n",
    "$w_{ij}(n+1) = w_{ij}(n) + \\Delta{w_{ij}}(n+1)$\n",
    "\n",
    "Weights between the hidden layer and the output layer are adjusted first, followed by the weights between the hidden layer and the input layer. This process is repeated and obtain weights that have the global minimum error in the network. Once these desired weights are achieved, the neural network is trained and can be deploy and use in practice. \n",
    "\n",
    "*Strengths*:\n",
    "ANN determine complicated relationships between input and output data sets. ANN are one of the modeling techniques that attempt to simulate the operation fo the human brain and nervous system. ANN models easy to understand compare to statistical models. ANN with Back propagation learning algorithm is widely used in solving various classification and forecasting problems. Even though back propagation convergence is slow but it is guaranteed\n",
    "\n",
    "\n",
    "*Weaknesses*:\n",
    "There are many shortcomings can be identified in MPLs. For example, MPLs can be trapped in a **local minimum** when they try to find a global minimum. Gradient descent algorithm is trying to determine the minimum value of the given weights cumulatively. Having to have a non-convex behavior of the error surface, the gradient descent can identify a minimum value which may be not the global minimum. There are a couple of different ways we can escape this local mimima, including increasing the learning rate, adding momentum terms, adding a small amount of random noise to the input patterns to shake the network from the line of steepest decent. Adding more hidden nodes and relocating the network along the error surface by randomizing the initial weights and retraining. Another limitation of MPLs is that feed-forward neural networks that are trained and stored weights during the training process is hard to interpret. The relationship between the input and output is a **black box** in these networks, and therefore it is hard to quantify them.\n",
    "\n",
    "*General Applications*:\n",
    "ANNs can examine a large number of information quickly and sort it all out; they can be used in various complicated application such as stock market prediction, Medicine, Electronic Noise, Security and financial application.\n",
    "\n",
    "\n",
    "**Decision Tree Classifier**$^{[2]}$\n",
    "\n",
    "\n",
    "Classification is an important problem in the field of data mining. The decision tree models are found to be the most useful in the domain of data mining since they obtain reasonable accuracy and they are relatively inexpensive to the computer. Most DT classifiers perform classification in two phases: Tree Building and Tree Pruning. In tree building, the decision tree model is built by recursively splitting the training data set based on a locally optimal criterion until all or most of the records belonging to each of the partitions bear the same class label. \n",
    "There are two main operations during tree building. \n",
    "- (i) Evaluation of splits for each attribute and selection of the best split. \n",
    "- (ii) Creation of partition using best split. Several splitting schemes.\n",
    "\n",
    "The complexity of creation of DT lies in determining the best split for each attribute. There are several splitting schemes have been proposed in the literature; however, the most common scheme is the Entropy. The information gain in each node can be calculated using entropy of that location using following formulas. \n",
    "\n",
    "$Entropy(S) = -\\sum_{j = 1}^{m}{P_{j}log{P_{j}}}$\n",
    "\n",
    "where $P_{j}$ is the relative frequency of class $j$ in $S$ (data)\n",
    "\n",
    "$Gain(S, A) = Entropy(S) - \\sum_{v\\in A} \\big(\\frac{|S_{v}|}{|S|} \\times Entropy(S_{v})\\big)$\n",
    "\n",
    "where $A$ attribute, $v$ possible values for attribute $A$, $S_{v}\\subset S$, $|S_{v}|$ number of elements in $S_{v}$ \n",
    "\n",
    "The maximum information gain in for identified attribute uses to proceed the splitting at the given node. By reapeating this method decision tree can be constructed. \n",
    "\n",
    "\n",
    "*Strengths*:\n",
    "There are many advantages of using DT algorithm in classification. Unlike ANNs, mainly they are simple to understand and interpret. This allows us to describe a situation and preferences for outcomes. DTs are also authorized to add new possible scenarios, and this makes it possible to determine worst, best and expected values for different cases. DTs are also allowed to combine with other decision techniques.\n",
    "\n",
    "*Weaknesses*:\n",
    "one of the major weakness of DTs is the calculations can be complicated particularly if many values are uncertain and if many outcomes are linked. For data including categorical variables with a different number of levels, information gain in decision trees are biased in favor of those attributes with more levels.\n",
    "\n",
    "\n",
    "**GaussianNB**\n",
    "\n",
    "Bayesian classifiers are based on Bayes’ theorem. Bayes' theorem state that the probability that we want to compute P(A|B) can be express in terms of probabilities P(A), P(B|A) and P(B).\n",
    "\n",
    "$P(A|B) = \\frac{P(B|A)P(A)}{P(B)}$\n",
    "\n",
    "Naive Bayesian classifiers assume that the effect of an attribute value on a given class is independent of the values of the other attributes. This assumption is called class conditional independence. It is made to simplify the computation involved and, in this sense, is considered ”naive”.\n",
    "\n",
    "\n",
    "Some of the typical application for Naive Bayes classifier are credit approval, target marketing, spam filtering, medical diagnostics. \n",
    "\n",
    "\n",
    "*Strengths*:\n",
    "Comparing classification algorithms have found that the\n",
    "naive Bayesian classifier to be comparable in performance with a decision tree and selected neural network classifiers. Bayesian classifiers have also exhibited high accuracy and speed\n",
    "when applied to large databases. \n",
    "\n",
    "\n",
    "*Weaknesses*:\n",
    "The assumption of class condition independence, therefore loss of accuracy. In practically, dependencies exists among variables cannot be modeled by the naive bayesian classifier. \n",
    "\n",
    "\n",
    "\n",
    "\n",
    "**Bibliography**\n",
    "\n",
    "[1] \"Applications of Artificial Neural Networks in Foundation ...\" N.p., n.d. Web. 14 Oct. 2016 https://www.researchgate.net/profile/Mark_Jaksa/publication/228649194_Application\n",
    "\n",
    "[2] Privacy-Preserving Decision Tree Classi?cation Over ... (n.d.). Retrieved from http://iceb.nccu.edu.tw/proceedings/2005/470-476.pdf\n",
    "\n",
    "[3] Updating formulate and a pairwise algorithem for computing sample variace\n",
    "http://i.stanford.edu/pub/cstr/reports/cs/tr/79/773/CS-TR-79-773.pdf"
   ]
  },
  {
   "cell_type": "markdown",
   "metadata": {},
   "source": [
    "Run the code cell below to initialize three helper functions which you can use for training and testing the three supervised learning models you've chosen above. The functions are as follows:\n",
    "- `train_classifier` - takes as input a classifier and training data and fits the classifier to the data.\n",
    "- `predict_labels` - takes as input a fit classifier, features, and a target labeling and makes predictions using the F<sub>1</sub> score.\n",
    "- `train_predict` - takes as input a classifier, and the training and testing data, and performs `train_clasifier` and `predict_labels`.\n",
    " - This function will report the F<sub>1</sub> score for both the training and testing data separately."
   ]
  },
  {
   "cell_type": "code",
   "execution_count": 129,
   "metadata": {
    "collapsed": false
   },
   "outputs": [],
   "source": [
    "def train_classifier(clf, X_train, y_train):\n",
    "    ''' Fits a classifier to the training data. '''\n",
    "    \n",
    "    # Start the clock, train the classifier, then stop the clock\n",
    "    start = time()\n",
    "    clf.fit(X_train, y_train)\n",
    "    end = time()\n",
    "    \n",
    "    # Print the results\n",
    "    print \"Trained model in {:.4f} seconds\".format(end - start)\n",
    "\n",
    "    \n",
    "def predict_labels(clf, features, target):\n",
    "    ''' Makes predictions using a fit classifier based on F1 score. '''\n",
    "    \n",
    "    # Start the clock, make predictions, then stop the clock\n",
    "    start = time()\n",
    "    y_pred = clf.predict(features)\n",
    "    end = time()\n",
    "    \n",
    "    # Print and return results\n",
    "    print \"Made predictions in {:.4f} seconds.\".format(end - start)\n",
    "    return f1_score(target.values, y_pred, pos_label='yes')\n",
    "\n",
    "\n",
    "def train_predict(clf, X_train, y_train, X_test, y_test):\n",
    "    ''' Train and predict using a classifer based on F1 score. '''\n",
    "    \n",
    "    # Indicate the classifier and the training set size\n",
    "    print \"Training a {} using a training set size of {}. . .\".format(clf.__class__.__name__, len(X_train))\n",
    "    \n",
    "    # Train the classifier\n",
    "    train_classifier(clf, X_train, y_train)\n",
    "    \n",
    "    # Print the results of prediction for both training and testing\n",
    "    print \"F1 score for training set: {:.4f}.\".format(predict_labels(clf, X_train, y_train))\n",
    "    print \"F1 score for test set: {:.4f}.\".format(predict_labels(clf, X_test, y_test))"
   ]
  },
  {
   "cell_type": "markdown",
   "metadata": {},
   "source": [
    "### Implementation: Model Performance Metrics\n",
    "With the predefined functions above, you will now import the three supervised learning models of your choice and run the `train_predict` function for each one. Remember that you will need to train and predict on each classifier for three different training set sizes: 100, 200, and 300. Hence, you should expect to have 9 different outputs below — 3 for each model using the varying training set sizes. In the following code cell, you will need to implement the following:\n",
    "- Import the three supervised learning models you've discussed in the previous section.\n",
    "- Initialize the three models and store them in `clf_A`, `clf_B`, and `clf_C`.\n",
    " - Use a `random_state` for each model you use, if provided.\n",
    " - **Note:** Use the default settings for each model — you will tune one specific model in a later section.\n",
    "- Create the different training set sizes to be used to train each model.\n",
    " - *Do not reshuffle and resplit the data! The new training points should be drawn from `X_train` and `y_train`.*\n",
    "- Fit each model with each training set size and make predictions on the test set (9 in total).  \n",
    "**Note:** Three tables are provided after the following code cell which can be used to store your results."
   ]
  },
  {
   "cell_type": "code",
   "execution_count": 130,
   "metadata": {
    "collapsed": false,
    "scrolled": true
   },
   "outputs": [
    {
     "name": "stdout",
     "output_type": "stream",
     "text": [
      "Training a MLPClassifier using a training set size of 100. . .\n",
      "Trained model in 0.0353 seconds\n",
      "Made predictions in 0.0047 seconds.\n",
      "F1 score for training set: 0.8024.\n",
      "Made predictions in 0.0008 seconds.\n",
      "F1 score for test set: 0.8125.\n",
      "----\n",
      "Training a MLPClassifier using a training set size of 200. . .\n",
      "Trained model in 0.0477 seconds\n",
      "Made predictions in 0.0008 seconds.\n",
      "F1 score for training set: 0.7988.\n",
      "Made predictions in 0.0013 seconds.\n",
      "F1 score for test set: 0.8125.\n",
      "----\n",
      "Training a MLPClassifier using a training set size of 300. . .\n",
      "Trained model in 0.7105 seconds\n",
      "Made predictions in 0.0026 seconds.\n",
      "F1 score for training set: 0.9975.\n",
      "Made predictions in 0.0012 seconds.\n",
      "F1 score for test set: 0.6923.\n",
      "----\n",
      "Training a DecisionTreeClassifier using a training set size of 100. . .\n",
      "Trained model in 0.0009 seconds\n",
      "Made predictions in 0.0004 seconds.\n",
      "F1 score for training set: 1.0000.\n",
      "Made predictions in 0.0004 seconds.\n",
      "F1 score for test set: 0.6767.\n",
      "----\n",
      "Training a DecisionTreeClassifier using a training set size of 200. . .\n",
      "Trained model in 0.0014 seconds\n",
      "Made predictions in 0.0002 seconds.\n",
      "F1 score for training set: 1.0000.\n",
      "Made predictions in 0.0002 seconds.\n",
      "F1 score for test set: 0.6387.\n",
      "----\n",
      "Training a DecisionTreeClassifier using a training set size of 300. . .\n",
      "Trained model in 0.0020 seconds\n",
      "Made predictions in 0.0002 seconds.\n",
      "F1 score for training set: 1.0000.\n",
      "Made predictions in 0.0002 seconds.\n",
      "F1 score for test set: 0.6935.\n",
      "----\n",
      "Training a GaussianNB using a training set size of 100. . .\n",
      "Trained model in 0.0006 seconds\n",
      "Made predictions in 0.0003 seconds.\n",
      "F1 score for training set: 0.5773.\n",
      "Made predictions in 0.0003 seconds.\n",
      "F1 score for test set: 0.5872.\n",
      "----\n",
      "Training a GaussianNB using a training set size of 200. . .\n",
      "Trained model in 0.0008 seconds\n",
      "Made predictions in 0.0003 seconds.\n",
      "F1 score for training set: 0.7521.\n",
      "Made predictions in 0.0003 seconds.\n",
      "F1 score for test set: 0.6230.\n",
      "----\n",
      "Training a GaussianNB using a training set size of 300. . .\n",
      "Trained model in 0.0009 seconds\n",
      "Made predictions in 0.0004 seconds.\n",
      "F1 score for training set: 0.7960.\n",
      "Made predictions in 0.0003 seconds.\n",
      "F1 score for test set: 0.6333.\n",
      "----\n"
     ]
    }
   ],
   "source": [
    "# TODO: Import the three supervised learning models from sklearn\n",
    "# from sklearn import model_A\n",
    "from sklearn.neural_network import MLPClassifier\n",
    "from sklearn.tree import DecisionTreeClassifier\n",
    "#from sklearn.gaussian_process import GaussianProcessClassifier\n",
    "from sklearn.naive_bayes import GaussianNB\n",
    "\n",
    "\n",
    "# TODO: Initialize the three models\n",
    "clf_A = MLPClassifier(solver='adam', alpha=1e-5, hidden_layer_sizes=(100, 100), random_state=1)\n",
    "clf_B = DecisionTreeClassifier(random_state=0)\n",
    "clf_C = GaussianNB()\n",
    "\n",
    "# TODO: Set up the training set sizes\n",
    "X_train_100 = X_train[:100]\n",
    "y_train_100 = y_train[:100]\n",
    "\n",
    "X_train_200 = X_train[:200]\n",
    "y_train_200 = y_train[:200]\n",
    "\n",
    "X_train_300 = X_train[:300]\n",
    "y_train_300 = y_train[:300]\n",
    "\n",
    "# TODO: Execute the 'train_predict' function for each classifier and each training set size\n",
    "# train_predict(clf, X_train, y_train, X_test, y_test)\n",
    "clf = [clf_A, clf_B, clf_C]\n",
    "for c in clf:\n",
    "    for i in range(0, 3):\n",
    "        train_predict(c, X_train[:(i + 1) * 100], y_train[:(i + 1) * 100] , X_test, y_test)\n",
    "        print '----'"
   ]
  },
  {
   "cell_type": "markdown",
   "metadata": {},
   "source": [
    "### Tabular Results\n",
    "Edit the cell below to see how a table can be designed in [Markdown](https://github.com/adam-p/markdown-here/wiki/Markdown-Cheatsheet#tables). You can record your results from above in the tables provided."
   ]
  },
  {
   "cell_type": "markdown",
   "metadata": {},
   "source": [
    "** Classifer 1 - MLPClassifier**  \n",
    "\n",
    "| Training Set Size | Prediction Time (train) | Prediction Time (test) | F1 Score (train) | F1 Score (test) |\n",
    "| :---------------: | :---------------------: | :--------------------: | :--------------: | :-------------: |\n",
    "| 100               |        0.0578           |          0.0026        |    0.7389        |     0.8199      |\n",
    "| 200               |        0.0028           |          0.0038        |    0.8024        |     0.8199      |\n",
    "| 300               |        0.0049           |          0.0032        |    0.9975        |     0.7481      |\n",
    "\n",
    "** Classifer 2 - DecisionTreeClassifier**  \n",
    "\n",
    "| Training Set Size | Prediction Time (train) | Prediction Time (test) | F1 Score (train) | F1 Score (test) |\n",
    "| :---------------: | :---------------------: | :--------------------: | :--------------: | :-------------: |\n",
    "| 100               |     0.0002              |        0.0002          |       1.0000     |      0.7132     |\n",
    "| 200               |     0.0002              |        0.0002          |       1.0000     |      0.7231     |\n",
    "| 300               |     0.0002              |        0.0002          |       1.0000     |      0.6372     |\n",
    "\n",
    "** Classifer 3 - GaussianNB**  \n",
    "\n",
    "| Training Set Size | Prediction Time (train) | Prediction Time (test) | F1 Score (train) | F1 Score (test) |\n",
    "| :---------------: | :---------------------: | :--------------------: | :--------------: | :-------------: |\n",
    "| 100               |        0.0003           |        0.0007          |       0.7705     |      0.6825     |\n",
    "| 200               |        0.0003           |        0.0003          |       0.8073     |      0.7481     |\n",
    "| 300               |        0.0004           |        0.0003          |       0.7950     |      0.7463     |"
   ]
  },
  {
   "cell_type": "markdown",
   "metadata": {},
   "source": [
    "## Choosing the Best Model\n",
    "In this final section, you will choose from the three supervised learning models the *best* model to use on the student data. You will then perform a grid search optimization for the model over the entire training set (`X_train` and `y_train`) by tuning at least one parameter to improve upon the untuned model's F<sub>1</sub> score. "
   ]
  },
  {
   "cell_type": "markdown",
   "metadata": {},
   "source": [
    "### Question 3 - Chosing the Best Model\n",
    "*Based on the experiments you performed earlier, in one to two paragraphs, explain to the board of supervisors what single model you chose as the best model. Which model is generally the most appropriate based on the available data, limited resources, cost, and performance?*"
   ]
  },
  {
   "cell_type": "markdown",
   "metadata": {},
   "source": [
    "**Answer: **\n",
    "\n",
    "Given the dataset and the use of three classifiers, all of them produce sufficiently accurate results. As I explain the answer to the previous question, each classifier has its advantages and disadvantages; however, \n",
    "I  would prefer to use the Decision Tree Classifier as my primary method to identify students who need intervention.\n",
    "\n",
    "To justify my choice of classifier, we can compare all the  F1 values as follows"
   ]
  },
  {
   "cell_type": "code",
   "execution_count": 131,
   "metadata": {
    "collapsed": false
   },
   "outputs": [
    {
     "data": {
      "image/png": "[encoded data removed]",
      "text/plain": [
       "<matplotlib.figure.Figure at 0x7fe64c40e7d0>"
      ]
     },
     "metadata": {},
     "output_type": "display_data"
    }
   ],
   "source": [
    "%matplotlib inline\n",
    "import matplotlib.pyplot as plt\n",
    "\n",
    "f1scores = pd.DataFrame(columns=['mlp train', 'mlp test', 'dt train', 'dt test', 'gnb train', 'gnb test'])\n",
    "f1scores['mlp train'] = [0.7389, 0.8024, 0.9975]\n",
    "f1scores['mlp test'] = [0.8199, 0.8199, 0.7481]\n",
    "f1scores['dt train'] = [1.0000, 1.0000, 1.0000]\n",
    "f1scores['dt test'] = [0.7132, 0.7231, 0.6372]\n",
    "f1scores['gnb train'] = [0.7705, 0.8073, 0.7950]\n",
    "f1scores['gnb test'] = [0.6825, 0.7481, 0.7463]\n",
    "axes = plt.gca()\n",
    "axes.set_ylim([0.6,1.01])\n",
    "labels = ['100', '200', '300']\n",
    "plt.grid(True)\n",
    "x = [0, 1, 2]\n",
    "plt.xticks(x, labels)\n",
    "plt.plot(x, f1scores['mlp train'], 'ro-')\n",
    "plt.plot(f1scores['mlp test'], 'ro--')\n",
    "plt.plot(f1scores['dt train'], 'b^-')\n",
    "plt.plot(f1scores['dt test'], 'b^--')\n",
    "plt.plot(f1scores['gnb train'], 'gs-')\n",
    "plt.plot(f1scores['gnb test'], 'gs--')\n",
    "plt.legend(loc=0)\n",
    "plt.ylabel('F1 Score')\n",
    "plt.xlabel('Number Of Data Points')\n",
    "plt.show()"
   ]
  },
  {
   "cell_type": "markdown",
   "metadata": {},
   "source": [
    "Given the F1 score comparison, for DT classifier has the best score for the training data set even though for the test data set, the score seems to be reducing. With this information and also taking into the time it took to run these datasets being the lowest, I am convince the DT classifier is the best choice for this problem."
   ]
  },
  {
   "cell_type": "markdown",
   "metadata": {},
   "source": [
    "### Question 4 - Model in Layman's Terms\n",
    "*In one to two paragraphs, explain to the board of directors in layman's terms how the final model chosen is supposed to work. For example if you've chosen to use a decision tree or a support vector machine, how does the model go about making a prediction?*"
   ]
  },
  {
   "cell_type": "markdown",
   "metadata": {},
   "source": [
    "**Answer: **\n",
    "Decision tree algorithm divides all the data into separate datasets at each node of the tree until we reach the smallest number of records appear in the last nodes (leafs). As the name suggest this looks like a tree where the top we start with one node. At this point, we have all the records in this top node. Then we look at which attribute we can use to divide the data set to two different equal sets. This division is done looking at all the attributes in the dataset and picking the best attribute that split the dataset most reasonable way. We also call this attribute has the highest information gain. Now we have three nodes on the tree where the top one has all the data and both children inherit the top parent node has divided data. Now we can repeat this process by treating each child leaf as the top node and split the dataset into two separate sets using the best attribute at that level. As you can see if you keep doing this process recursively, we will end up with a tree that has many nodes. We can end this process when we reach the level where the bottom child nodes has predefined minimum amount of data. \n",
    "\n",
    "Once we build the tree using training data sets, we can use this tree on the real data where we need to make a prediction. As you can see this is a much clear process and the complexity and the knowledge of this tree are lying on how we calculate the information gain at each node."
   ]
  },
  {
   "cell_type": "markdown",
   "metadata": {},
   "source": [
    "### Implementation: Model Tuning\n",
    "Fine tune the chosen model. Use grid search (`GridSearchCV`) with at least one important parameter tuned with at least 3 different values. You will need to use the entire training set for this. In the code cell below, you will need to implement the following:\n",
    "- Import [`sklearn.grid_search.gridSearchCV`](http://scikit-learn.org/stable/modules/generated/sklearn.grid_search.GridSearchCV.html) and [`sklearn.metrics.make_scorer`](http://scikit-learn.org/stable/modules/generated/sklearn.metrics.make_scorer.html).\n",
    "- Create a dictionary of parameters you wish to tune for the chosen model.\n",
    " - Example: `parameters = {'parameter' : [list of values]}`.\n",
    "- Initialize the classifier you've chosen and store it in `clf`.\n",
    "- Create the F<sub>1</sub> scoring function using `make_scorer` and store it in `f1_scorer`.\n",
    " - Set the `pos_label` parameter to the correct value!\n",
    "- Perform grid search on the classifier `clf` using `f1_scorer` as the scoring method, and store it in `grid_obj`.\n",
    "- Fit the grid search object to the training data (`X_train`, `y_train`), and store it in `grid_obj`."
   ]
  },
  {
   "cell_type": "code",
   "execution_count": 132,
   "metadata": {
    "collapsed": false
   },
   "outputs": [
    {
     "name": "stdout",
     "output_type": "stream",
     "text": [
      "Made predictions in 0.0002 seconds.\n",
      "Tuned model has a training F1 score of 0.8000.\n",
      "Made predictions in 0.0002 seconds.\n",
      "Tuned model has a testing F1 score of 0.8125.\n"
     ]
    }
   ],
   "source": [
    "# TODO: Import 'gridSearchCV' and 'make_scorer'\n",
    "from sklearn.grid_search import GridSearchCV\n",
    "from sklearn.metrics import fbeta_score, make_scorer\n",
    "\n",
    "def scoring_dtc(target, y_pred):\n",
    "    return f1_score(target, y_pred, pos_label='yes')\n",
    "# TODO: Create the parameters list you wish to tune\n",
    "\n",
    "parameters = {\n",
    "    'max_features':['auto', 'log2', 'sqrt'], \n",
    "    'max_depth':[1, 2, 3, 4, 5]}\n",
    "\n",
    "# TODO: Initialize the classifier\n",
    "clf = DecisionTreeClassifier()\n",
    "\n",
    "# TODO: Make an f1 scoring function using 'make_scorer' \n",
    "f1_scorer = make_scorer(scoring_dtc,greater_is_better=True)\n",
    "\n",
    "# TODO: Perform grid search on the classifier using the f1_scorer as the scoring method\n",
    "grid_obj = GridSearchCV(clf, parameters, scoring=f1_scorer)\n",
    "\n",
    "# TODO: Fit the grid search object to the training data and find the optimal parameters\n",
    "grid_obj.fit(X_train, y_train)\n",
    "\n",
    "# Get the estimator\n",
    "clf = grid_obj.best_estimator_\n",
    "\n",
    "# Report the final F1 score for training and testing after parameter tuning\n",
    "print \"Tuned model has a training F1 score of {:.4f}.\".format(predict_labels(clf, X_train, y_train))\n",
    "print \"Tuned model has a testing F1 score of {:.4f}.\".format(predict_labels(clf, X_test, y_test))"
   ]
  },
  {
   "cell_type": "markdown",
   "metadata": {},
   "source": [
    "### Question 5 - Final F<sub>1</sub> Score\n",
    "*What is the final model's F<sub>1</sub> score for training and testing? How does that score compare to the untuned model?*\n",
    "\n",
    "- Training F1 Score: 0.8037\n",
    "- Testing F1 Score: 0.8345"
   ]
  },
  {
   "cell_type": "code",
   "execution_count": 133,
   "metadata": {
    "collapsed": false
   },
   "outputs": [
    {
     "data": {
      "image/png": "[encoded data removed]",
      "text/plain": [
       "<matplotlib.figure.Figure at 0x7fe64c86c290>"
      ]
     },
     "metadata": {},
     "output_type": "display_data"
    }
   ],
   "source": [
    "bestdf = pd.DataFrame()\n",
    "bestdf['dt_train'] = [1.0000, 1.0000, 1.0000, 0.8037]\n",
    "bestdf['dt_test'] = [0.7132, 0.7231, 0.6372, 0.8345]\n",
    "axes = plt.gca()\n",
    "axes.set_ylim([0.6,1.01])\n",
    "labels = ['100', '200', '300']\n",
    "plt.grid(True)\n",
    "x = [0, 1, 2, 3]\n",
    "plt.xticks(x, labels)\n",
    "plt.plot(x, bestdf['dt_train'], 'b^-')\n",
    "plt.plot(bestdf['dt_test'], 'b^--')\n",
    "plt.legend(loc=0)\n",
    "plt.ylabel('F1 Score')\n",
    "plt.xlabel('Number Of Data Points')\n",
    "plt.show()"
   ]
  },
  {
   "cell_type": "markdown",
   "metadata": {},
   "source": [
    "The above plot show the final F1 value after picking the best parameters using grid search. the last data points on the plot are what the best DT classifier given to us compare to the 300 data points (x-axis)"
   ]
  },
  {
   "cell_type": "markdown",
   "metadata": {},
   "source": [
    "**Answer: **"
   ]
  },
  {
   "cell_type": "markdown",
   "metadata": {},
   "source": [
    "> **Note**: Once you have completed all of the code implementations and successfully answered each question above, you may finalize your work by exporting the iPython Notebook as an HTML document. You can do this by using the menu above and navigating to  \n",
    "**File -> Download as -> HTML (.html)**. Include the finished document along with this notebook as your submission."
   ]
  }
 ],
 "metadata": {
  "kernelspec": {
   "display_name": "Python 2",
   "language": "python",
   "name": "python2"
  },
  "language_info": {
   "codemirror_mode": {
    "name": "ipython",
    "version": 2
   },
   "file_extension": ".py",
   "mimetype": "text/x-python",
   "name": "python",
   "nbconvert_exporter": "python",
   "pygments_lexer": "ipython2",
   "version": "2.7.12"
  }
 },
 "nbformat": 4,
 "nbformat_minor": 0
}
